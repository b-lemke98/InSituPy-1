{
 "cells": [
  {
   "cell_type": "markdown",
   "metadata": {},
   "source": [
    "# InSituPy demonstration - Download of datasets\n",
    "\n",
    "This notebook demonstrates the download of different publicly available Xenium datasets. For the tutorial only the breast cancer notebook is required and downloaded at the beginning of notebook 01. So you might also want to skip this notebook, since the downloads take a lot of time."
   ]
  },
  {
   "cell_type": "code",
   "execution_count": 1,
   "metadata": {},
   "outputs": [],
   "source": [
    "## The following code ensures that all functions and init files are reloaded before executions.\n",
    "%load_ext autoreload\n",
    "%autoreload 2"
   ]
  },
  {
   "cell_type": "markdown",
   "metadata": {},
   "source": [
    "InSitupy offers eight functions that each download a different dataset into '~/.cache/InSituPy/demo_datasets'. The data is provided by 10x Genomics and is publicly available.\n",
    "Each function returns an `InSituData` object and has an optional argument `overwrite`, which can be set to `True`, whenever a repeated download is desired.\n",
    "1. `human_breast_cancer()`: In situ gene expression dataset by xenium onboard analysis 1.0.1  \n",
    "https://www.10xgenomics.com/products/xenium-in-situ/preview-dataset-human-breast\n",
    "2. `human_brain_cancer()`: In situ gene expression dataset by xenium onboard analysis 2.0.0  \n",
    "https://www.10xgenomics.com/datasets/ffpe-human-brain-cancer-data-with-human-immuno-oncology-profiling-panel-and-custom-add-on-1-standard\n",
    "3. `nondiseased_kidney()`: In situ gene expression dataset by xenium onboard analysis 1.5.0  \n",
    "https://www.10xgenomics.com/resources/datasets/human-kidney-preview-data-xenium-human-multi-tissue-and-cancer-panel-1-standard\n",
    "4. `hskin_melanoma()`: In situ gene expression dataset by xenium onboard analysis 1.7.0   \n",
    " https://www.10xgenomics.com/resources/datasets/human-skin-preview-data-xenium-human-skin-gene-expression-panel-add-on-1-standard\n",
    "5. `pancreatic_cancer()`: In situ gene expression dataset by xenium onboard analysis 1.6.0  \n",
    " https://www.10xgenomics.com/datasets/pancreatic-cancer-with-xenium-human-multi-tissue-and-cancer-panel-1-standard\n",
    "6. `human_lung_cancer()`: In situ gene expression dataset by xenium onboard analysis 2.0.0 (Xenium multimodal cell segmentation)  \n",
    "https://www.10xgenomics.com/datasets/preview-data-ffpe-human-lung-cancer-with-xenium-multimodal-cell-segmentation-1-standard\n",
    "7. `human_lymph_node_5k()`: In situ gene expression dataset with xenium onboard analysis 3.0.0. (testing of 5000 genes compared to 400 in the previous versions)  \n",
    "https://www.10xgenomics.com/datasets/preview-data-xenium-prime-gene-expression\n",
    "8. `human_lymph_node()`: In situ gene expression dataset with xenium onboard analysis 1.5.0  \n",
    "https://www.10xgenomics.com/datasets/human-lymph-node-preview-data-xenium-human-multi-tissue-and-cancer-panel-1-standard\n"
   ]
  },
  {
   "cell_type": "code",
   "execution_count": 2,
   "metadata": {},
   "outputs": [],
   "source": [
    "from insitupy.datasets import (human_brain_cancer, human_breast_cancer,\n",
    "                        human_kidney_nondiseased, human_lung_cancer,\n",
    "                        human_lymph_node, human_lymph_node_5k,\n",
    "                        human_pancreatic_cancer, human_skin_melanoma,\n",
    "                        xenium_test_dataset\n",
    "                        )\n",
    "\n",
    "from insitupy.datasets import list_downloaded_datasets\n"
   ]
  },
  {
   "cell_type": "code",
   "execution_count": 3,
   "metadata": {},
   "outputs": [
    {
     "name": "stdout",
     "output_type": "stream",
     "text": [
      "This dataset exists already. Download is skipped. To force download set `overwrite=True`.\n",
      "Loading cells...\n",
      "Loading images...\n",
      "Loading transcripts...\n",
      "Image exists. Checking md5sum...\n",
      "The md5sum matches. Download is skipped. To force download set `overwrite=True`.\n",
      "Image exists. Checking md5sum...\n",
      "The md5sum matches. Download is skipped. To force download set `overwrite=True`.\n",
      "Corresponding image data can be found in C:\\Users\\ge37voy\\.cache\\InSituPy\\demo_datasets\\hbreastcancer\\unregistered_images\n",
      "For this dataset following images are available:\n",
      "slide_id__hbreastcancer__HE__histo.ome.tiff\n",
      "slide_id__hbreastcancer__CD20_HER2_DAPI__IF.ome.tiff\n",
      "No `annotations` modality found.\n",
      "No `regions` modality found.\n"
     ]
    },
    {
     "name": "stderr",
     "output_type": "stream",
     "text": [
      "C:\\Users\\ge37voy\\Github\\InSituPy\\insitupy\\_warnings.py:5: UserWarning: Loading functions only work on a saved InSituPy project.\n",
      "  warn(\"Loading functions only work on a saved InSituPy project.\", UserWarning)\n"
     ]
    }
   ],
   "source": [
    "hbreast = human_breast_cancer()\n",
    "hbreast\n",
    "hbreast.load_all()\n",
    "hbreast.show()"
   ]
  },
  {
   "cell_type": "code",
   "execution_count": 3,
   "metadata": {},
   "outputs": [
    {
     "name": "stdout",
     "output_type": "stream",
     "text": [
      "Following demo datasets were found:\n",
      "\n",
      "- archive\n",
      "- hbraincancer\n",
      "- hbreastcancer\n",
      "- xenium_test_dataset\n"
     ]
    }
   ],
   "source": [
    "list_downloaded_datasets()"
   ]
  },
  {
   "cell_type": "markdown",
   "metadata": {},
   "source": [
    "## Below is another example for the human lung cancer dataset"
   ]
  },
  {
   "cell_type": "code",
   "execution_count": null,
   "metadata": {},
   "outputs": [],
   "source": [
    "# hlung = human_lung_cancer()\n",
    "# hlung\n",
    "# hlung.load_all()\n",
    "# hlung.show()"
   ]
  },
  {
   "cell_type": "markdown",
   "metadata": {},
   "source": [
    "## Next steps"
   ]
  },
  {
   "cell_type": "markdown",
   "metadata": {},
   "source": [
    "To explore the datasets continue with registering the images as demonstrated in [01_InSituPy_demo_register_images.ipynb](./01_InSituPy_demo_register_images.ipynb) as well as preprocessing and visualizing the data as in [02_InSituPy_demo_analyze.ipynb](./02_InSituPy_demo_analyze.ipynb). "
   ]
  }
 ],
 "metadata": {
  "kernelspec": {
   "display_name": "insitupy",
   "language": "python",
   "name": "python3"
  },
  "language_info": {
   "codemirror_mode": {
    "name": "ipython",
    "version": 3
   },
   "file_extension": ".py",
   "mimetype": "text/x-python",
   "name": "python",
   "nbconvert_exporter": "python",
   "pygments_lexer": "ipython3",
   "version": "3.9.21"
  }
 },
 "nbformat": 4,
 "nbformat_minor": 2
}
