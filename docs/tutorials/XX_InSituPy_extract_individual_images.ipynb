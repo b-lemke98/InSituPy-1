{
 "cells": [
  {
   "cell_type": "markdown",
   "metadata": {},
   "source": [
    "# InSituPy demonstration - Extract images of individual samples from whole slide image\n",
    "\n",
    "Per run of technologies such as Xenium In Situ or Merscope, multiple tissue sections can be measured. While the spatial transcriptomics measurements of the tissue sections are often done per tissue sections, scans of subsequent H&E stainings often contain all tissue sections at once. This makes it necessary to extract the individual H&E scans from the whole slide image before registering them to the spatial transcriptomics datasets. Here, we present a `InSituPy`-based approach to achieve this."
   ]
  },
  {
   "cell_type": "code",
   "execution_count": 1,
   "metadata": {},
   "outputs": [],
   "source": [
    "## The following code ensures that all functions and init files are reloaded before executions.\n",
    "%load_ext autoreload\n",
    "%autoreload 2\n",
    "\n",
    "# import packages\n",
    "from insitupy import InSituData, ImageData, CACHE\n",
    "from insitupy import InSituExperiment"
   ]
  },
  {
   "cell_type": "markdown",
   "metadata": {},
   "source": [
    "## Load images and create an `InSituData` object"
   ]
  },
  {
   "cell_type": "code",
   "execution_count": 2,
   "metadata": {},
   "outputs": [],
   "source": [
    "# setup empty InSituData object\n",
    "xd = InSituData()\n",
    "xd.images = ImageData()\n",
    "\n",
    "# add image\n",
    "he_path = CACHE / \"demo_datasets/hbreastcancer/unregistered_images/slide_id__hbreastcancer__HE__histo.ome.tif\"\n",
    "xd.images.add_image(image=he_path, name=\"HE\")"
   ]
  },
  {
   "cell_type": "code",
   "execution_count": 3,
   "metadata": {},
   "outputs": [
    {
     "data": {
      "text/plain": [
       "\u001b[1m\u001b[31mInSituData\u001b[0m\n",
       "\u001b[1mMethod:\u001b[0m\t\tunknown\n",
       "\u001b[1mSlide ID:\u001b[0m\tNone\n",
       "\u001b[1mSample ID:\u001b[0m\tNone\n",
       "\u001b[1mPath:\u001b[0m\t\tNone\n",
       "\u001b[1mMetadata file:\u001b[0m\tNone\n",
       "    ➤ \u001b[34m\u001b[1mimages\u001b[0m\n",
       "       \u001b[1mHE:\u001b[0m\t(24241, 30786, 3)"
      ]
     },
     "execution_count": 3,
     "metadata": {},
     "output_type": "execute_result"
    }
   ],
   "source": [
    "xd"
   ]
  },
  {
   "cell_type": "markdown",
   "metadata": {},
   "source": [
    "## Visualize the data to select the individual samples"
   ]
  },
  {
   "cell_type": "code",
   "execution_count": 4,
   "metadata": {},
   "outputs": [],
   "source": [
    "xd.show()"
   ]
  },
  {
   "cell_type": "markdown",
   "metadata": {},
   "source": [
    "### Add regions to image\n",
    "\n",
    "To add regions, one can use the \"Add geometries\" widget on the right side of the napari window:\n",
    "1. Select Type = \"Regions\"\n",
    "2. Add a Key value and a Class name\n",
    "3. Press Add geometry layer\n",
    "4. Add one rectangle per region layer. <b>!!! Important</b>: Per region layer only one shape is allowed.\n",
    "5. Repeat this for all regions.\n",
    "\n",
    "<left><img src=\"./demo_screenshots/select_sample_region.png\" width=\"800\"/></left>"
   ]
  },
  {
   "cell_type": "markdown",
   "metadata": {},
   "source": [
    "### Import the regions from the napari viewer into the `InSituData` object"
   ]
  },
  {
   "cell_type": "code",
   "execution_count": 5,
   "metadata": {},
   "outputs": [
    {
     "name": "stdout",
     "output_type": "stream",
     "text": [
      "Added 1 new regions to key 'TestKey'\n",
      "Added 1 new regions to existing key 'TestKey'\n",
      "Added 1 new regions to existing key 'TestKey'\n"
     ]
    }
   ],
   "source": [
    "# import the selected regions\n",
    "xd.store_geometries()"
   ]
  },
  {
   "cell_type": "code",
   "execution_count": 6,
   "metadata": {},
   "outputs": [
    {
     "data": {
      "text/plain": [
       "\u001b[1m\u001b[31mInSituData\u001b[0m\n",
       "\u001b[1mMethod:\u001b[0m\t\tunknown\n",
       "\u001b[1mSlide ID:\u001b[0m\tNone\n",
       "\u001b[1mSample ID:\u001b[0m\tNone\n",
       "\u001b[1mPath:\u001b[0m\t\tNone\n",
       "\u001b[1mMetadata file:\u001b[0m\tNone\n",
       "    ➤ \u001b[34m\u001b[1mimages\u001b[0m\n",
       "       \u001b[1mHE:\u001b[0m\t(24241, 30786, 3)\n",
       "    ➤ \u001b[36m\u001b[1mannotations\u001b[0m\n",
       "       \n",
       "    ➤ \u001b[36m\u001b[1mregions\u001b[0m\n",
       "       \u001b[1mTestKey:\u001b[0m\t3 regions, 3 classes ('Region 1','Region 2','Region 3') "
      ]
     },
     "execution_count": 6,
     "metadata": {},
     "output_type": "execute_result"
    }
   ],
   "source": [
    "xd"
   ]
  },
  {
   "cell_type": "markdown",
   "metadata": {},
   "source": [
    "## Create an `InSituExperiment` object using the annotated regions"
   ]
  },
  {
   "cell_type": "code",
   "execution_count": 7,
   "metadata": {},
   "outputs": [],
   "source": [
    "exp = InSituExperiment.from_regions(\n",
    "    data=xd, region_key=\"TestKey\"\n",
    ")"
   ]
  },
  {
   "cell_type": "markdown",
   "metadata": {},
   "source": [
    "## Save the individual images"
   ]
  },
  {
   "cell_type": "code",
   "execution_count": 10,
   "metadata": {},
   "outputs": [
    {
     "name": "stdout",
     "output_type": "stream",
     "text": [
      "start saving\n",
      "end saving\n",
      "start saving\n",
      "end saving\n",
      "start saving\n",
      "end saving\n"
     ]
    }
   ],
   "source": [
    "for m, d in exp.iterdata():\n",
    "    d.images.save(output_folder=f\"out/{m['region_name']}\", as_zarr=False)"
   ]
  },
  {
   "cell_type": "markdown",
   "metadata": {},
   "source": [
    "After saving the individual images, one can now continue by registering the images to the spatial transcriptomics data as shown in notebook `01_InSituPy_demo_register_images.ipynb`."
   ]
  },
  {
   "cell_type": "markdown",
   "metadata": {},
   "source": []
  }
 ],
 "metadata": {
  "kernelspec": {
   "display_name": "insitupy",
   "language": "python",
   "name": "python3"
  },
  "language_info": {
   "codemirror_mode": {
    "name": "ipython",
    "version": 3
   },
   "file_extension": ".py",
   "mimetype": "text/x-python",
   "name": "python",
   "nbconvert_exporter": "python",
   "pygments_lexer": "ipython3",
   "version": "3.9.21"
  }
 },
 "nbformat": 4,
 "nbformat_minor": 2
}
