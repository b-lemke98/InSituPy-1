{
 "cells": [
  {
   "cell_type": "markdown",
   "id": "b16df72d-5dd5-47da-a8c3-b569fe97446b",
   "metadata": {
    "tags": []
   },
   "source": [
    "# Cropping the data"
   ]
  },
  {
   "cell_type": "code",
   "execution_count": 2,
   "id": "58107e0b-5017-425b-8cd0-9274be2b8253",
   "metadata": {},
   "outputs": [],
   "source": [
    "from pathlib import Path\n",
    "from insitupy import InSituData, CACHE"
   ]
  },
  {
   "cell_type": "markdown",
   "id": "b9f72f5b",
   "metadata": {},
   "source": [
    "## Load Xenium data into `InSituData` object\n",
    "\n",
    "Now the Xenium data can be parsed by providing the data path to the `InSituPy` project folder"
   ]
  },
  {
   "cell_type": "code",
   "execution_count": 3,
   "id": "a3f38503",
   "metadata": {},
   "outputs": [],
   "source": [
    "insitupy_project = Path(CACHE / \"out/demo_insitupy_project\")\n",
    "xd = InSituData.read(insitupy_project)"
   ]
  },
  {
   "cell_type": "code",
   "execution_count": 4,
   "id": "22afdac4",
   "metadata": {},
   "outputs": [
    {
     "data": {
      "text/plain": [
       "\u001b[1m\u001b[31mInSituData\u001b[0m\n",
       "\u001b[1mMethod:\u001b[0m\t\tXenium\n",
       "\u001b[1mSlide ID:\u001b[0m\t0001879\n",
       "\u001b[1mSample ID:\u001b[0m\tReplicate 1\n",
       "\u001b[1mPath:\u001b[0m\t\tC:\\Users\\ge37voy\\.cache\\InSituPy\\out\\demo_insitupy_project\n",
       "\u001b[1mMetadata file:\u001b[0m\t.ispy\n",
       "\n",
       "No modalities loaded."
      ]
     },
     "execution_count": 4,
     "metadata": {},
     "output_type": "execute_result"
    }
   ],
   "source": [
    "xd"
   ]
  },
  {
   "cell_type": "code",
   "execution_count": 5,
   "id": "e0ec9d39",
   "metadata": {},
   "outputs": [],
   "source": [
    "# read all data modalities but the transcripts\n",
    "xd.load_all(skip=\"transcripts\")"
   ]
  },
  {
   "cell_type": "code",
   "execution_count": 6,
   "id": "7a864387",
   "metadata": {},
   "outputs": [
    {
     "data": {
      "text/plain": [
       "\u001b[1m\u001b[31mInSituData\u001b[0m\n",
       "\u001b[1mMethod:\u001b[0m\t\tXenium\n",
       "\u001b[1mSlide ID:\u001b[0m\t0001879\n",
       "\u001b[1mSample ID:\u001b[0m\tReplicate 1\n",
       "\u001b[1mPath:\u001b[0m\t\tC:\\Users\\ge37voy\\.cache\\InSituPy\\out\\demo_insitupy_project\n",
       "\u001b[1mMetadata file:\u001b[0m\t.ispy\n",
       "    ➤ \u001b[34m\u001b[1mimages\u001b[0m\n",
       "       \u001b[1mnuclei:\u001b[0m\t(25778, 35416)\n",
       "       \u001b[1mCD20:\u001b[0m\t(25778, 35416)\n",
       "       \u001b[1mHER2:\u001b[0m\t(25778, 35416)\n",
       "       \u001b[1mHE:\u001b[0m\t(25778, 35416, 3)\n",
       "    ➤\u001b[32m\u001b[1m cells\u001b[0m\n",
       "       \u001b[1mmatrix\u001b[0m\n",
       "           AnnData object with n_obs × n_vars = 157600 × 297\n",
       "           obs: 'transcript_counts', 'control_probe_counts', 'control_codeword_counts', 'total_counts', 'cell_area', 'nucleus_area', 'n_genes_by_counts', 'n_genes', 'leiden'\n",
       "           var: 'gene_ids', 'feature_types', 'genome', 'n_cells_by_counts', 'mean_counts', 'pct_dropout_by_counts', 'total_counts', 'n_cells'\n",
       "           uns: 'leiden', 'leiden_colors', 'log1p', 'neighbors', 'pca', 'umap'\n",
       "           obsm: 'X_pca', 'X_umap', 'annotations', 'regions', 'spatial'\n",
       "           varm: 'PCs'\n",
       "           layers: 'counts', 'norm_counts'\n",
       "           obsp: 'connectivities', 'distances'\n",
       "       \u001b[1mboundaries\u001b[0m\n",
       "           BoundariesData object with 2 entries:\n",
       "               \u001b[1mcells\u001b[0m\n",
       "               \u001b[1mnuclei\u001b[0m\n",
       "    ➤ \u001b[36m\u001b[1mannotations\u001b[0m\n",
       "       \u001b[1mTestKey:\u001b[0m\t8 annotations, 2 classes ('TestClass','points') ✔\n",
       "       \u001b[1mdemo:\u001b[0m\t4 annotations, 2 classes ('Positive','Negative') ✔\n",
       "       \u001b[1mdemo2:\u001b[0m\t5 annotations, 3 classes ('Negative','Positive','Other') ✔\n",
       "       \u001b[1mdemo3:\u001b[0m\t7 annotations, 5 classes ('Stroma','Necrosis','Immune cells','unclassified','Tumor') ✔\n",
       "    ➤ \u001b[36m\u001b[1mregions\u001b[0m\n",
       "       \u001b[1mtest:\u001b[0m\t7 regions, 5 classes ('Stroma','Necrosis','Immune cells','unclassified','Tumor') ✔\n",
       "       \u001b[1mdemo_regions:\u001b[0m\t3 regions, 3 classes ('Region1','Region2','Region3') ✔\n",
       "       \u001b[1mTMA:\u001b[0m\t6 regions, 6 classes ('B-2','A-3','B-1','B-3','A-1','A-2') ✔"
      ]
     },
     "execution_count": 6,
     "metadata": {},
     "output_type": "execute_result"
    }
   ],
   "source": [
    "xd"
   ]
  },
  {
   "cell_type": "code",
   "execution_count": 7,
   "id": "85e19325",
   "metadata": {},
   "outputs": [],
   "source": [
    "# Visualize the data\n",
    "xd.show()"
   ]
  },
  {
   "cell_type": "markdown",
   "id": "f1459df6",
   "metadata": {},
   "source": [
    "## Cropping of data\n",
    "\n",
    "There are two different methods implemented for cropping the data.\n",
    "\n",
    "### Option 1: Crop using limit values"
   ]
  },
  {
   "cell_type": "code",
   "execution_count": 7,
   "id": "1eb9943f",
   "metadata": {},
   "outputs": [],
   "source": [
    "# alternatively you can also crop using the xlim/ylim arguments\n",
    "xd_cropped = xd.crop(xlim=(2000,3000), ylim=(2000,3000))"
   ]
  },
  {
   "cell_type": "code",
   "execution_count": 8,
   "id": "01aa1675",
   "metadata": {},
   "outputs": [
    {
     "data": {
      "text/plain": [
       "\u001b[1m\u001b[31mInSituData\u001b[0m\n",
       "\u001b[1mMethod:\u001b[0m\t\tXenium\n",
       "\u001b[1mSlide ID:\u001b[0m\t0001879\n",
       "\u001b[1mSample ID:\u001b[0m\tReplicate 1\n",
       "\u001b[1mPath:\u001b[0m\t\tC:\\Users\\ge37voy\\.cache\\InSituPy\\out\\demo_insitupy_project\n",
       "\u001b[1mMetadata file:\u001b[0m\t.ispy\n",
       "    ➤ \u001b[34m\u001b[1mimages\u001b[0m\n",
       "       \u001b[1mnuclei:\u001b[0m\t(4706, 4706)\n",
       "       \u001b[1mCD20:\u001b[0m\t(4706, 4706)\n",
       "       \u001b[1mHER2:\u001b[0m\t(4706, 4706)\n",
       "       \u001b[1mHE:\u001b[0m\t(4706, 4706, 3)\n",
       "    ➤\u001b[32m\u001b[1m cells\u001b[0m\n",
       "       \u001b[1mmatrix\u001b[0m\n",
       "           AnnData object with n_obs × n_vars = 4550 × 297\n",
       "           obs: 'transcript_counts', 'control_probe_counts', 'control_codeword_counts', 'total_counts', 'cell_area', 'nucleus_area', 'n_genes_by_counts', 'n_genes', 'leiden'\n",
       "           var: 'gene_ids', 'feature_types', 'genome', 'n_cells_by_counts', 'mean_counts', 'pct_dropout_by_counts', 'total_counts', 'n_cells'\n",
       "           uns: 'leiden', 'leiden_colors', 'log1p', 'neighbors', 'pca', 'umap'\n",
       "           obsm: 'X_pca', 'X_umap', 'annotations', 'regions', 'spatial'\n",
       "           varm: 'PCs'\n",
       "           layers: 'counts', 'norm_counts'\n",
       "           obsp: 'connectivities', 'distances'\n",
       "       \u001b[1mboundaries\u001b[0m\n",
       "           BoundariesData object with 2 entries:\n",
       "               \u001b[1mcells\u001b[0m\n",
       "               \u001b[1mnuclei\u001b[0m\n",
       "    ➤ \u001b[36m\u001b[1mannotations\u001b[0m\n",
       "       \u001b[1mTestKey:\u001b[0m\t1 annotations, 1 class ('TestClass') \n",
       "       \u001b[1mdemo:\u001b[0m\t2 annotations, 1 class ('Positive') \n",
       "       \u001b[1mdemo3:\u001b[0m\t1 annotations, 1 class ('Stroma') \n",
       "    ➤ \u001b[36m\u001b[1mregions\u001b[0m\n",
       "       \u001b[1mtest:\u001b[0m\t1 regions, 1 class ('Stroma') \n",
       "       \u001b[1mdemo_regions:\u001b[0m\t1 regions, 1 class ('Region3') "
      ]
     },
     "execution_count": 8,
     "metadata": {},
     "output_type": "execute_result"
    }
   ],
   "source": [
    "xd_cropped"
   ]
  },
  {
   "cell_type": "code",
   "execution_count": 9,
   "id": "d506448a",
   "metadata": {},
   "outputs": [],
   "source": [
    "xd_cropped.show()"
   ]
  },
  {
   "cell_type": "markdown",
   "id": "0e1d51ec",
   "metadata": {},
   "source": [
    "### Option 2: Crop from `regions`\n",
    "\n",
    "We can also crop a region from the dataset. To specify the region, a tuple in the shape `(region_key, region_name)` is used."
   ]
  },
  {
   "cell_type": "code",
   "execution_count": 10,
   "id": "ee7f4120",
   "metadata": {},
   "outputs": [],
   "source": [
    "xd_cropped = xd.crop(\n",
    "    region_tuple=(\"demo_regions\", \"Region1\"))"
   ]
  },
  {
   "cell_type": "code",
   "execution_count": 11,
   "id": "4cba0c98",
   "metadata": {},
   "outputs": [
    {
     "data": {
      "text/plain": [
       "\u001b[1m\u001b[31mInSituData\u001b[0m\n",
       "\u001b[1mMethod:\u001b[0m\t\tXenium\n",
       "\u001b[1mSlide ID:\u001b[0m\t0001879\n",
       "\u001b[1mSample ID:\u001b[0m\tReplicate 1\n",
       "\u001b[1mPath:\u001b[0m\t\tC:\\Users\\ge37voy\\.cache\\InSituPy\\out\\demo_insitupy_project\n",
       "\u001b[1mMetadata file:\u001b[0m\t.ispy\n",
       "    ➤ \u001b[34m\u001b[1mimages\u001b[0m\n",
       "       \u001b[1mnuclei:\u001b[0m\t(2701, 3309)\n",
       "       \u001b[1mCD20:\u001b[0m\t(2701, 3309)\n",
       "       \u001b[1mHER2:\u001b[0m\t(2701, 3309)\n",
       "       \u001b[1mHE:\u001b[0m\t(2701, 3309, 3)\n",
       "    ➤\u001b[32m\u001b[1m cells\u001b[0m\n",
       "       \u001b[1mmatrix\u001b[0m\n",
       "           AnnData object with n_obs × n_vars = 2289 × 297\n",
       "           obs: 'transcript_counts', 'control_probe_counts', 'control_codeword_counts', 'total_counts', 'cell_area', 'nucleus_area', 'n_genes_by_counts', 'n_genes', 'leiden'\n",
       "           var: 'gene_ids', 'feature_types', 'genome', 'n_cells_by_counts', 'mean_counts', 'pct_dropout_by_counts', 'total_counts', 'n_cells'\n",
       "           uns: 'leiden', 'leiden_colors', 'log1p', 'neighbors', 'pca', 'umap'\n",
       "           obsm: 'X_pca', 'X_umap', 'annotations', 'regions', 'spatial'\n",
       "           varm: 'PCs'\n",
       "           layers: 'counts', 'norm_counts'\n",
       "           obsp: 'connectivities', 'distances'\n",
       "       \u001b[1mboundaries\u001b[0m\n",
       "           BoundariesData object with 2 entries:\n",
       "               \u001b[1mcells\u001b[0m\n",
       "               \u001b[1mnuclei\u001b[0m\n",
       "    ➤ \u001b[36m\u001b[1mannotations\u001b[0m\n",
       "       \n",
       "    ➤ \u001b[36m\u001b[1mregions\u001b[0m\n",
       "       \u001b[1mdemo_regions:\u001b[0m\t1 regions, 1 class ('Region1') "
      ]
     },
     "execution_count": 11,
     "metadata": {},
     "output_type": "execute_result"
    }
   ],
   "source": [
    "xd_cropped"
   ]
  },
  {
   "cell_type": "code",
   "execution_count": 12,
   "id": "fb40ec9f",
   "metadata": {},
   "outputs": [],
   "source": [
    "xd_cropped.show()"
   ]
  },
  {
   "cell_type": "markdown",
   "id": "f195222c",
   "metadata": {},
   "source": [
    "## Saving the cropped data\n",
    "\n",
    "### Saving to the existing project path is not possible\n",
    "\n",
    "Due to the cropping event, saving to the existing project path is not possible and the `.save()` function throws an error:"
   ]
  },
  {
   "cell_type": "code",
   "execution_count": 13,
   "id": "07981ef1",
   "metadata": {},
   "outputs": [
    {
     "name": "stderr",
     "output_type": "stream",
     "text": [
      "C:\\Users\\ge37voy\\Github\\InSituPy\\insitupy\\_core\\insitudata.py:1291: UserWarning: UID of current object 647976e1-80a0-41de-b95c-cf9aa5dbc87e not identical with UID in project path C:\\Users\\ge37voy\\.cache\\InSituPy\\out\\demo_insitupy_project: 9a4d6275-de1a-491e-8aff-f88cd5ff6b36.\n",
      "Project is neither saved nor updated. Try `saveas()` instead to save the data to a new project folder. A reason for this could be the data has been cropped in the meantime.\n",
      "  warn(\n"
     ]
    }
   ],
   "source": [
    "xd_cropped.save()"
   ]
  },
  {
   "cell_type": "markdown",
   "id": "1a140b24",
   "metadata": {},
   "source": [
    "Reload also does not work because it was not saved as an `InSituPy` project."
   ]
  },
  {
   "cell_type": "code",
   "execution_count": 14,
   "id": "df23d992",
   "metadata": {},
   "outputs": [
    {
     "name": "stdout",
     "output_type": "stream",
     "text": [
      "No modalities with existing save path found. Consider saving the data with `saveas()` first.\n"
     ]
    }
   ],
   "source": [
    "xd_cropped.reload()"
   ]
  },
  {
   "cell_type": "markdown",
   "id": "a7da7b0f",
   "metadata": {},
   "source": [
    "### Saving to new project directory"
   ]
  },
  {
   "cell_type": "code",
   "execution_count": 15,
   "id": "d73d944e",
   "metadata": {},
   "outputs": [],
   "source": [
    "cropped_insitupy_project = insitupy_project.parent / f\"{insitupy_project.name}_cropped\""
   ]
  },
  {
   "cell_type": "code",
   "execution_count": 16,
   "id": "2c5c438a",
   "metadata": {},
   "outputs": [
    {
     "name": "stdout",
     "output_type": "stream",
     "text": [
      "Saving data to C:\\Users\\ge37voy\\.cache\\InSituPy\\out\\demo_insitupy_project_cropped\n",
      "Saved.\n"
     ]
    }
   ],
   "source": [
    "xd_cropped.saveas(cropped_insitupy_project, overwrite=True)"
   ]
  },
  {
   "cell_type": "markdown",
   "id": "1c86615b",
   "metadata": {},
   "source": [
    "### Reload from `InSituPy` project folder\n",
    "\n",
    "Reloading from project folder makes visualizations more efficient. But of course only the modalities that had been loaded before the cropping event can be reloaded in this step."
   ]
  },
  {
   "cell_type": "code",
   "execution_count": 17,
   "id": "1f6257b5",
   "metadata": {},
   "outputs": [],
   "source": [
    "# reload from insitupy project\n",
    "xd_cropped = InSituData.read(cropped_insitupy_project)\n",
    "xd_cropped.load_all()"
   ]
  },
  {
   "cell_type": "code",
   "execution_count": 18,
   "id": "0f5ecfcb",
   "metadata": {},
   "outputs": [
    {
     "data": {
      "text/plain": [
       "\u001b[1m\u001b[31mInSituData\u001b[0m\n",
       "\u001b[1mMethod:\u001b[0m\t\tXenium\n",
       "\u001b[1mSlide ID:\u001b[0m\t0001879\n",
       "\u001b[1mSample ID:\u001b[0m\tReplicate 1\n",
       "\u001b[1mPath:\u001b[0m\t\tC:\\Users\\ge37voy\\.cache\\InSituPy\\out\\demo_insitupy_project_cropped\n",
       "\u001b[1mMetadata file:\u001b[0m\t.ispy\n",
       "    ➤ \u001b[34m\u001b[1mimages\u001b[0m\n",
       "       \u001b[1mnuclei:\u001b[0m\t(2701, 3309)\n",
       "       \u001b[1mCD20:\u001b[0m\t(2701, 3309)\n",
       "       \u001b[1mHER2:\u001b[0m\t(2701, 3309)\n",
       "       \u001b[1mHE:\u001b[0m\t(2701, 3309, 3)\n",
       "    ➤\u001b[32m\u001b[1m cells\u001b[0m\n",
       "       \u001b[1mmatrix\u001b[0m\n",
       "           AnnData object with n_obs × n_vars = 2289 × 297\n",
       "           obs: 'transcript_counts', 'control_probe_counts', 'control_codeword_counts', 'total_counts', 'cell_area', 'nucleus_area', 'n_genes_by_counts', 'n_genes', 'leiden'\n",
       "           var: 'gene_ids', 'feature_types', 'genome', 'n_cells_by_counts', 'mean_counts', 'pct_dropout_by_counts', 'total_counts', 'n_cells'\n",
       "           uns: 'leiden', 'leiden_colors', 'log1p', 'neighbors', 'pca', 'umap'\n",
       "           obsm: 'X_pca', 'X_umap', 'annotations', 'regions', 'spatial'\n",
       "           varm: 'PCs'\n",
       "           layers: 'counts', 'norm_counts'\n",
       "           obsp: 'connectivities', 'distances'\n",
       "       \u001b[1mboundaries\u001b[0m\n",
       "           BoundariesData object with 2 entries:\n",
       "               \u001b[1mcells\u001b[0m\n",
       "               \u001b[1mnuclei\u001b[0m\n",
       "    ➤ \u001b[36m\u001b[1mannotations\u001b[0m\n",
       "       \n",
       "    ➤ \u001b[36m\u001b[1mregions\u001b[0m\n",
       "       \u001b[1mdemo_regions:\u001b[0m\t1 regions, 1 class ('Region1') "
      ]
     },
     "execution_count": 18,
     "metadata": {},
     "output_type": "execute_result"
    }
   ],
   "source": [
    "xd_cropped"
   ]
  },
  {
   "cell_type": "code",
   "execution_count": 61,
   "id": "32dbc342",
   "metadata": {},
   "outputs": [],
   "source": [
    "xd_cropped.show()"
   ]
  },
  {
   "cell_type": "code",
   "execution_count": null,
   "id": "53ff7934",
   "metadata": {},
   "outputs": [],
   "source": []
  }
 ],
 "metadata": {
  "kernelspec": {
   "display_name": "insitupy",
   "language": "python",
   "name": "python3"
  },
  "language_info": {
   "codemirror_mode": {
    "name": "ipython",
    "version": 3
   },
   "file_extension": ".py",
   "mimetype": "text/x-python",
   "name": "python",
   "nbconvert_exporter": "python",
   "pygments_lexer": "ipython3",
   "version": "3.9.21"
  }
 },
 "nbformat": 4,
 "nbformat_minor": 5
}
