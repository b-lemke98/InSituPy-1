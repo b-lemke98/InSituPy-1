{
 "cells": [
  {
   "cell_type": "markdown",
   "metadata": {},
   "source": [
    "## Notebook demonstrating the addition of data segmented with [proseg](https://github.com/dcjones/proseg)"
   ]
  },
  {
   "cell_type": "code",
   "execution_count": 1,
   "metadata": {},
   "outputs": [],
   "source": [
    "## The following code ensures that all functions and init files are reloaded before executions.\n",
    "%load_ext autoreload\n",
    "%autoreload 2"
   ]
  },
  {
   "cell_type": "code",
   "execution_count": 2,
   "metadata": {},
   "outputs": [],
   "source": [
    "from pathlib import Path\n",
    "from insitupy import InSituData, CACHE"
   ]
  },
  {
   "cell_type": "markdown",
   "metadata": {},
   "source": [
    "## Load data"
   ]
  },
  {
   "cell_type": "code",
   "execution_count": 3,
   "metadata": {},
   "outputs": [],
   "source": [
    "insitupy_project = Path(CACHE / \"out/demo_insitupy_project\")\n",
    "xd = InSituData.read(insitupy_project)\n",
    "xd.load_all()"
   ]
  },
  {
   "cell_type": "code",
   "execution_count": 4,
   "metadata": {},
   "outputs": [
    {
     "data": {
      "text/plain": [
       "\u001b[1m\u001b[31mInSituData\u001b[0m\n",
       "\u001b[1mMethod:\u001b[0m\t\tXenium\n",
       "\u001b[1mSlide ID:\u001b[0m\t0001879\n",
       "\u001b[1mSample ID:\u001b[0m\tReplicate 1\n",
       "\u001b[1mPath:\u001b[0m\t\tC:\\Users\\ge37voy\\.cache\\InSituPy\\out\\demo_insitupy_project\n",
       "\u001b[1mMetadata file:\u001b[0m\t.ispy\n",
       "    ➤ \u001b[34m\u001b[1mimages\u001b[0m\n",
       "       \u001b[1mnuclei:\u001b[0m\t(25778, 35416)\n",
       "       \u001b[1mCD20:\u001b[0m\t(25778, 35416)\n",
       "       \u001b[1mHER2:\u001b[0m\t(25778, 35416)\n",
       "       \u001b[1mHE:\u001b[0m\t(25778, 35416, 3)\n",
       "    ➤\u001b[32m\u001b[1m cells\u001b[0m\n",
       "       \u001b[1mMultiCellData with main layer\u001b[0m 'main'\n",
       "           \u001b[1mmatrix\u001b[0m\n",
       "               AnnData object with n_obs × n_vars = 167780 × 313\n",
       "               obs: 'transcript_counts', 'control_probe_counts', 'control_codeword_counts', 'total_counts', 'cell_area', 'nucleus_area'\n",
       "               var: 'gene_ids', 'feature_types', 'genome'\n",
       "               obsm: 'spatial'\n",
       "           \u001b[1mboundaries\u001b[0m\n",
       "               BoundariesData object with 2 entries:\n",
       "                   \u001b[1mcells\u001b[0m\n",
       "                   \u001b[1mnuclei\u001b[0m\n",
       "    ➤\u001b[95m\u001b[1m transcripts\u001b[0m\n",
       "       DataFrame with shape Delayed('int-221870c4-7ac9-459b-8d4c-f2ed90c84124') x 8"
      ]
     },
     "execution_count": 4,
     "metadata": {},
     "output_type": "execute_result"
    }
   ],
   "source": [
    "xd"
   ]
  },
  {
   "cell_type": "markdown",
   "metadata": {},
   "source": [
    "## Select small region for demonstration"
   ]
  },
  {
   "cell_type": "code",
   "execution_count": 5,
   "metadata": {},
   "outputs": [],
   "source": [
    "xdcrop = xd.crop(xlim=(2700,3000), ylim=(2700,3000))"
   ]
  },
  {
   "cell_type": "markdown",
   "metadata": {},
   "source": [
    "## Export transcripts for proseg"
   ]
  },
  {
   "cell_type": "code",
   "execution_count": 6,
   "metadata": {},
   "outputs": [],
   "source": [
    "transcripts_out_path = Path(CACHE / \"out/transcripts_for_proseg.csv\")\n",
    "transcripts_out_path.parent.mkdir(exist_ok=True)"
   ]
  },
  {
   "cell_type": "code",
   "execution_count": 7,
   "metadata": {},
   "outputs": [
    {
     "data": {
      "text/plain": [
       "['C:\\\\Users\\\\ge37voy\\\\.cache\\\\InSituPy\\\\out\\\\transcripts_for_proseg.csv']"
      ]
     },
     "execution_count": 7,
     "metadata": {},
     "output_type": "execute_result"
    }
   ],
   "source": [
    "# export transcripts as csv\n",
    "xdcrop.transcripts.to_csv(transcripts_out_path, single_file=True)"
   ]
  },
  {
   "cell_type": "markdown",
   "metadata": {},
   "source": [
    "## Install proseg\n",
    "\n",
    "For installation checkout the installation instructions in the [proseg Github repository](https://github.com/dcjones/proseg?tab=readme-ov-file#installing). In brief, proseg is a [Rust](https://www.rust-lang.org/) package and can be installed using:\n",
    "\n",
    "```Bash\n",
    "cargo install proseg\n",
    "```\n",
    "\n",
    "## Run proseg\n",
    "\n",
    "```Bash\n",
    "proseg /path/to/transcripts.csv.gz\n",
    "```"
   ]
  },
  {
   "cell_type": "code",
   "execution_count": 7,
   "metadata": {},
   "outputs": [],
   "source": [
    "output_path = transcripts_out_path.parent / \"proseg_results\"\n",
    "output_path.mkdir(exist_ok=True)"
   ]
  },
  {
   "cell_type": "code",
   "execution_count": 9,
   "metadata": {},
   "outputs": [
    {
     "name": "stdout",
     "output_type": "stream",
     "text": [
      "Using 16 threads\n",
      "Read 144377 transcripts\n",
      "590 cells\n",
      "471 genes\n",
      "Estimated full area: 90017.61\n",
      "Full volume: 549952.6\n",
      "Using grid size 123.504875. Chunks: 9\n"
     ]
    }
   ],
   "source": [
    "import subprocess\n",
    "\n",
    "# Start the process\n",
    "process = subprocess.Popen([\n",
    "    'proseg',\n",
    "    '--xenium', str(transcripts_out_path),\n",
    "    '--output-path', str(output_path)\n",
    "    ], stdout=subprocess.PIPE)\n",
    "\n",
    "# Continuously read the output\n",
    "while True:\n",
    "    output = process.stdout.readline()\n",
    "    if output == b'' and process.poll() is not None:\n",
    "        break\n",
    "    if output:\n",
    "        print(output.decode('utf-8', errors='replace').strip())"
   ]
  },
  {
   "cell_type": "markdown",
   "metadata": {},
   "source": [
    "## Add proseg results to `InSituData`"
   ]
  },
  {
   "cell_type": "code",
   "execution_count": 8,
   "metadata": {},
   "outputs": [],
   "source": [
    "xdcrop.cells.add_proseg(path=output_path)\n",
    "xdcrop.cells.add_proseg(path=output_path, key=\"test\") # add the data a second time with another key"
   ]
  },
  {
   "cell_type": "code",
   "execution_count": 9,
   "metadata": {},
   "outputs": [
    {
     "name": "stdout",
     "output_type": "stream",
     "text": [
      "Saving data to C:\\Users\\ge37voy\\.cache\\InSituPy\\out\\cropped\n",
      "Saved.\n"
     ]
    }
   ],
   "source": [
    "cropped_out = CACHE / \"out/cropped\"\n",
    "xdcrop.saveas(cropped_out)"
   ]
  },
  {
   "cell_type": "markdown",
   "metadata": {},
   "source": [
    "## Store and visualize data"
   ]
  },
  {
   "cell_type": "code",
   "execution_count": 10,
   "metadata": {},
   "outputs": [],
   "source": [
    "xdr = InSituData.read(cropped_out)\n",
    "xdr.load_all()"
   ]
  },
  {
   "cell_type": "code",
   "execution_count": null,
   "metadata": {},
   "outputs": [
    {
     "name": "stdout",
     "output_type": "stream",
     "text": [
      "Layer 'proseg-boundaries-cells' already in layer list.\n"
     ]
    }
   ],
   "source": [
    "# visualize data\n",
    "xdr.show()"
   ]
  },
  {
   "cell_type": "code",
   "execution_count": null,
   "metadata": {},
   "outputs": [],
   "source": []
  }
 ],
 "metadata": {
  "kernelspec": {
   "display_name": "insitupy",
   "language": "python",
   "name": "python3"
  },
  "language_info": {
   "codemirror_mode": {
    "name": "ipython",
    "version": 3
   },
   "file_extension": ".py",
   "mimetype": "text/x-python",
   "name": "python",
   "nbconvert_exporter": "python",
   "pygments_lexer": "ipython3",
   "version": "3.9.21"
  }
 },
 "nbformat": 4,
 "nbformat_minor": 2
}
