{
 "cells": [
  {
   "cell_type": "markdown",
   "id": "b16df72d-5dd5-47da-a8c3-b569fe97446b",
   "metadata": {
    "tags": []
   },
   "source": [
    "# InSituPy demonstration - Add annotations"
   ]
  },
  {
   "cell_type": "code",
   "execution_count": 1,
   "id": "8bc0c4ed-3587-460e-98d2-6626a020a327",
   "metadata": {},
   "outputs": [],
   "source": [
    "## The following code ensures that all functions and init files are reloaded before executions.\n",
    "%load_ext autoreload\n",
    "%autoreload 2"
   ]
  },
  {
   "cell_type": "code",
   "execution_count": 2,
   "id": "58107e0b-5017-425b-8cd0-9274be2b8253",
   "metadata": {},
   "outputs": [],
   "source": [
    "from pathlib import Path\n",
    "from insitupy import InSituData, CACHE"
   ]
  },
  {
   "cell_type": "markdown",
   "id": "ae409a19",
   "metadata": {},
   "source": [
    "## Load Xenium data into `InSituData` object\n",
    "\n",
    "Now the Xenium data can be parsed by providing the data path to the `InSituPy` project folder"
   ]
  },
  {
   "cell_type": "code",
   "execution_count": 3,
   "id": "2db31fb9",
   "metadata": {},
   "outputs": [],
   "source": [
    "insitupy_project = Path(CACHE / \"out/demo_insitupy_project\")\n",
    "xd = InSituData.read(insitupy_project)"
   ]
  },
  {
   "cell_type": "code",
   "execution_count": 4,
   "id": "22afdac4",
   "metadata": {},
   "outputs": [
    {
     "data": {
      "text/plain": [
       "\u001b[1m\u001b[31mInSituData\u001b[0m\n",
       "\u001b[1mMethod:\u001b[0m\t\tXenium\n",
       "\u001b[1mSlide ID:\u001b[0m\t0001879\n",
       "\u001b[1mSample ID:\u001b[0m\tReplicate 1\n",
       "\u001b[1mPath:\u001b[0m\t\tC:\\Users\\ge37voy\\.cache\\InSituPy\\out\\demo_insitupy_project\n",
       "\u001b[1mMetadata file:\u001b[0m\t.ispy\n",
       "\n",
       "No modalities loaded."
      ]
     },
     "execution_count": 4,
     "metadata": {},
     "output_type": "execute_result"
    }
   ],
   "source": [
    "xd"
   ]
  },
  {
   "cell_type": "markdown",
   "id": "4509b4c7",
   "metadata": {},
   "source": [
    "Here we only load the images and cells modalities. Since `InSitupy v0.6.2` transcripts are loaded lazily, so it would be also just as fast to use `load_all()` here."
   ]
  },
  {
   "cell_type": "code",
   "execution_count": 5,
   "id": "ae606b79",
   "metadata": {},
   "outputs": [],
   "source": [
    "xd.load_images()\n",
    "xd.load_cells()"
   ]
  },
  {
   "cell_type": "code",
   "execution_count": 6,
   "id": "7a864387",
   "metadata": {},
   "outputs": [
    {
     "data": {
      "text/plain": [
       "\u001b[1m\u001b[31mInSituData\u001b[0m\n",
       "\u001b[1mMethod:\u001b[0m\t\tXenium\n",
       "\u001b[1mSlide ID:\u001b[0m\t0001879\n",
       "\u001b[1mSample ID:\u001b[0m\tReplicate 1\n",
       "\u001b[1mPath:\u001b[0m\t\tC:\\Users\\ge37voy\\.cache\\InSituPy\\out\\demo_insitupy_project\n",
       "\u001b[1mMetadata file:\u001b[0m\t.ispy\n",
       "    ➤ \u001b[34m\u001b[1mimages\u001b[0m\n",
       "       \u001b[1mnuclei:\u001b[0m\t(25778, 35416)\n",
       "       \u001b[1mCD20:\u001b[0m\t(25778, 35416)\n",
       "       \u001b[1mHER2:\u001b[0m\t(25778, 35416)\n",
       "       \u001b[1mHE:\u001b[0m\t(25778, 35416, 3)\n",
       "    ➤\u001b[32m\u001b[1m cells\u001b[0m\n",
       "       \u001b[1mmatrix\u001b[0m\n",
       "           AnnData object with n_obs × n_vars = 157600 × 297\n",
       "           obs: 'transcript_counts', 'control_probe_counts', 'control_codeword_counts', 'total_counts', 'cell_area', 'nucleus_area', 'n_genes_by_counts', 'n_genes', 'leiden'\n",
       "           var: 'gene_ids', 'feature_types', 'genome', 'n_cells_by_counts', 'mean_counts', 'pct_dropout_by_counts', 'total_counts', 'n_cells'\n",
       "           uns: 'leiden', 'leiden_colors', 'log1p', 'neighbors', 'pca', 'umap'\n",
       "           obsm: 'X_pca', 'X_umap', 'spatial'\n",
       "           varm: 'PCs'\n",
       "           layers: 'counts', 'norm_counts'\n",
       "           obsp: 'connectivities', 'distances'\n",
       "       \u001b[1mboundaries\u001b[0m\n",
       "           BoundariesData object with 2 entries:\n",
       "               \u001b[1mcells\u001b[0m\n",
       "               \u001b[1mnuclei\u001b[0m"
      ]
     },
     "execution_count": 6,
     "metadata": {},
     "output_type": "execute_result"
    }
   ],
   "source": [
    "xd"
   ]
  },
  {
   "cell_type": "markdown",
   "id": "e451b940",
   "metadata": {},
   "source": [
    "## Create Annotations\n",
    "\n",
    "For the analysis of spatial transcriptomic datasets, the inclusion of annotations from experts in disease pathology is key. Here, we demonstrate two ways to annotate Xenium data:\n",
    "\n",
    "1. **Within `InSituPy` using the `napari` viewer.**\n",
    "2. **Using [QuPath](https://qupath.github.io/).**\n",
    "\n",
    "### Key Concepts\n",
    "\n",
    "#### Annotations in `InSituPy`\n",
    "\n",
    "- **Annotations** consist of polygons, points or lines.\n",
    "- Each polygon is assigned to a certain **class** (e.g., \"tumor cells\", \"immune cells\", \"stroma\", etc.).\n",
    "- Each polygon is also assigned a **key** (e.g., the name of the pathologist doing the annotations).\n",
    "- Classes within one key do not have to be unique (multiple annotations could contain tumor cells).\n",
    "- A unique identifier is used to differentiate between the polygons.\n",
    "\n",
    "#### Regions in `InSituPy`\n",
    "\n",
    "- **Regions** also consist of polygons.\n",
    "- Regions have a key for a cohesive group of polygons (e.g. \"TMA\").\n",
    "- Each polygon within one key is required to have a unique name (e.g. \"TMA A-1\").\n",
    "- Regions can delineate:\n",
    "  - The positions of TMA cores.\n",
    "  - The positions of different tissue sections.\n",
    "  - Regions of interest within the same dataset."
   ]
  },
  {
   "cell_type": "markdown",
   "id": "4dc8789b",
   "metadata": {},
   "source": [
    "### 1. In `napari` viewer\n",
    "\n",
    "First visualize the Xenium data using `.show()`."
   ]
  },
  {
   "cell_type": "code",
   "execution_count": 7,
   "id": "cc531f48",
   "metadata": {},
   "outputs": [],
   "source": [
    "xd.show()"
   ]
  },
  {
   "cell_type": "markdown",
   "id": "1889ce4f",
   "metadata": {},
   "source": [
    "A new annotation layer can be added using the \"Add geometries\" widget on the bottom right.<br><br>\n",
    "<left><img src=\"./demo_screenshots/add_geometries_widget.JPG\" width=\"200\"/></left>\n",
    "\n",
    "As described above, `InSituPy` differentiates between \"regions\" and histological \"annotations\". Since napari creates separate layers for point and shape annotations, the \"annotations\" are split further into two subtypes, resulting in a total of three possible geometry types one can chose from:\n",
    "1. Geometric annotations <br>\n",
    "<img src=\"./demo_screenshots/annotation_layer.jpg\" width=\"200\"/>\n",
    "2. Point annotations <br>\n",
    "<img src=\"./demo_screenshots/point_layer.jpg\" width=\"200\"/>\n",
    "3. Region <br>\n",
    "<img src=\"./demo_screenshots/region_layer.jpg\" width=\"200\"/>\n",
    "\n",
    "Since `InSituPy` uses different icons to differentiate between the types, it is important to add the geometries via this widget and not via the normal `napari` annotation panel.\n",
    "\n",
    "After adding the respective shapes layer, one can now add shapes using the tool box of napari on the top left. E.g. for a geometric annotation, the tool set would look like this:<br><br>\n",
    "<img src=\"./demo_screenshots/annotation_tools.jpg\" width=\"200\"/>\n",
    "\n",
    "After adding the geometries, they can be imported into the `InSituPy` object using `.store_geometries()`:"
   ]
  },
  {
   "cell_type": "code",
   "execution_count": 9,
   "id": "08fac46d",
   "metadata": {},
   "outputs": [
    {
     "name": "stdout",
     "output_type": "stream",
     "text": [
      "Added 4 new annotations to key 'TestKey'\n",
      "Added 4 new annotations to existing key 'TestKey'\n"
     ]
    }
   ],
   "source": [
    "xd.store_geometries()"
   ]
  },
  {
   "cell_type": "code",
   "execution_count": 10,
   "id": "f4edacc9",
   "metadata": {},
   "outputs": [
    {
     "data": {
      "text/plain": [
       "\u001b[1m\u001b[31mInSituData\u001b[0m\n",
       "\u001b[1mMethod:\u001b[0m\t\tXenium\n",
       "\u001b[1mSlide ID:\u001b[0m\t0001879\n",
       "\u001b[1mSample ID:\u001b[0m\tReplicate 1\n",
       "\u001b[1mPath:\u001b[0m\t\tC:\\Users\\ge37voy\\.cache\\InSituPy\\out\\demo_insitupy_project\n",
       "\u001b[1mMetadata file:\u001b[0m\t.ispy\n",
       "    ➤ \u001b[34m\u001b[1mimages\u001b[0m\n",
       "       \u001b[1mnuclei:\u001b[0m\t(25778, 35416)\n",
       "       \u001b[1mCD20:\u001b[0m\t(25778, 35416)\n",
       "       \u001b[1mHER2:\u001b[0m\t(25778, 35416)\n",
       "       \u001b[1mHE:\u001b[0m\t(25778, 35416, 3)\n",
       "    ➤\u001b[32m\u001b[1m cells\u001b[0m\n",
       "       \u001b[1mmatrix\u001b[0m\n",
       "           AnnData object with n_obs × n_vars = 157600 × 297\n",
       "           obs: 'transcript_counts', 'control_probe_counts', 'control_codeword_counts', 'total_counts', 'cell_area', 'nucleus_area', 'n_genes_by_counts', 'n_genes', 'leiden'\n",
       "           var: 'gene_ids', 'feature_types', 'genome', 'n_cells_by_counts', 'mean_counts', 'pct_dropout_by_counts', 'total_counts', 'n_cells'\n",
       "           uns: 'leiden', 'leiden_colors', 'log1p', 'neighbors', 'pca', 'umap'\n",
       "           obsm: 'X_pca', 'X_umap', 'spatial'\n",
       "           varm: 'PCs'\n",
       "           layers: 'counts', 'norm_counts'\n",
       "           obsp: 'connectivities', 'distances'\n",
       "       \u001b[1mboundaries\u001b[0m\n",
       "           BoundariesData object with 2 entries:\n",
       "               \u001b[1mcells\u001b[0m\n",
       "               \u001b[1mnuclei\u001b[0m\n",
       "    ➤ \u001b[36m\u001b[1mannotations\u001b[0m\n",
       "       \u001b[1mTestKey:\u001b[0m\t8 annotations, 2 classes ('TestClass','points') "
      ]
     },
     "execution_count": 10,
     "metadata": {},
     "output_type": "execute_result"
    }
   ],
   "source": [
    "xd"
   ]
  },
  {
   "cell_type": "code",
   "execution_count": 11,
   "id": "ac7c7df3",
   "metadata": {},
   "outputs": [
    {
     "data": {
      "text/html": [
       "<div>\n",
       "<style scoped>\n",
       "    .dataframe tbody tr th:only-of-type {\n",
       "        vertical-align: middle;\n",
       "    }\n",
       "\n",
       "    .dataframe tbody tr th {\n",
       "        vertical-align: top;\n",
       "    }\n",
       "\n",
       "    .dataframe thead th {\n",
       "        text-align: right;\n",
       "    }\n",
       "</style>\n",
       "<table border=\"1\" class=\"dataframe\">\n",
       "  <thead>\n",
       "    <tr style=\"text-align: right;\">\n",
       "      <th></th>\n",
       "      <th>objectType</th>\n",
       "      <th>geometry</th>\n",
       "      <th>name</th>\n",
       "      <th>color</th>\n",
       "      <th>origin</th>\n",
       "      <th>layer_type</th>\n",
       "    </tr>\n",
       "    <tr>\n",
       "      <th>id</th>\n",
       "      <th></th>\n",
       "      <th></th>\n",
       "      <th></th>\n",
       "      <th></th>\n",
       "      <th></th>\n",
       "      <th></th>\n",
       "    </tr>\n",
       "  </thead>\n",
       "  <tbody>\n",
       "    <tr>\n",
       "      <th>d9cd38a1-ca0a-4d7b-b2d0-21acc8519ca5</th>\n",
       "      <td>annotation</td>\n",
       "      <td>POLYGON ((1955.63748 2324.13903, 1695.69686 30...</td>\n",
       "      <td>TestClass</td>\n",
       "      <td>[255, 0, 0]</td>\n",
       "      <td>manual</td>\n",
       "      <td>Shapes</td>\n",
       "    </tr>\n",
       "    <tr>\n",
       "      <th>5061f660-efae-4a77-a488-02561fd823c3</th>\n",
       "      <td>annotation</td>\n",
       "      <td>POLYGON ((3700.95308 2844.02027, 3626.68433 31...</td>\n",
       "      <td>TestClass</td>\n",
       "      <td>[255, 0, 0]</td>\n",
       "      <td>manual</td>\n",
       "      <td>Shapes</td>\n",
       "    </tr>\n",
       "    <tr>\n",
       "      <th>4a961c6c-c725-4668-a734-ab04065b7930</th>\n",
       "      <td>annotation</td>\n",
       "      <td>POLYGON ((4035.16245 2175.60153, 4035.16245 24...</td>\n",
       "      <td>TestClass</td>\n",
       "      <td>[255, 0, 0]</td>\n",
       "      <td>manual</td>\n",
       "      <td>Shapes</td>\n",
       "    </tr>\n",
       "    <tr>\n",
       "      <th>1a1d95eb-42dc-4c94-aa92-7d621cc9ba6c</th>\n",
       "      <td>annotation</td>\n",
       "      <td>POLYGON ((3242.96246 1754.74529, 3181.07184 19...</td>\n",
       "      <td>TestClass</td>\n",
       "      <td>[255, 0, 0]</td>\n",
       "      <td>manual</td>\n",
       "      <td>Shapes</td>\n",
       "    </tr>\n",
       "    <tr>\n",
       "      <th>b0896d7c-71fd-4e97-bf7a-a3bc8a19bc32</th>\n",
       "      <td>annotation</td>\n",
       "      <td>POINT (2586.92185 1358.64529)</td>\n",
       "      <td>points</td>\n",
       "      <td>[0, 0, 0]</td>\n",
       "      <td>manual</td>\n",
       "      <td>Points</td>\n",
       "    </tr>\n",
       "  </tbody>\n",
       "</table>\n",
       "</div>"
      ],
      "text/plain": [
       "                                      objectType  \\\n",
       "id                                                 \n",
       "d9cd38a1-ca0a-4d7b-b2d0-21acc8519ca5  annotation   \n",
       "5061f660-efae-4a77-a488-02561fd823c3  annotation   \n",
       "4a961c6c-c725-4668-a734-ab04065b7930  annotation   \n",
       "1a1d95eb-42dc-4c94-aa92-7d621cc9ba6c  annotation   \n",
       "b0896d7c-71fd-4e97-bf7a-a3bc8a19bc32  annotation   \n",
       "\n",
       "                                                                               geometry  \\\n",
       "id                                                                                        \n",
       "d9cd38a1-ca0a-4d7b-b2d0-21acc8519ca5  POLYGON ((1955.63748 2324.13903, 1695.69686 30...   \n",
       "5061f660-efae-4a77-a488-02561fd823c3  POLYGON ((3700.95308 2844.02027, 3626.68433 31...   \n",
       "4a961c6c-c725-4668-a734-ab04065b7930  POLYGON ((4035.16245 2175.60153, 4035.16245 24...   \n",
       "1a1d95eb-42dc-4c94-aa92-7d621cc9ba6c  POLYGON ((3242.96246 1754.74529, 3181.07184 19...   \n",
       "b0896d7c-71fd-4e97-bf7a-a3bc8a19bc32                      POINT (2586.92185 1358.64529)   \n",
       "\n",
       "                                           name        color  origin  \\\n",
       "id                                                                     \n",
       "d9cd38a1-ca0a-4d7b-b2d0-21acc8519ca5  TestClass  [255, 0, 0]  manual   \n",
       "5061f660-efae-4a77-a488-02561fd823c3  TestClass  [255, 0, 0]  manual   \n",
       "4a961c6c-c725-4668-a734-ab04065b7930  TestClass  [255, 0, 0]  manual   \n",
       "1a1d95eb-42dc-4c94-aa92-7d621cc9ba6c  TestClass  [255, 0, 0]  manual   \n",
       "b0896d7c-71fd-4e97-bf7a-a3bc8a19bc32     points    [0, 0, 0]  manual   \n",
       "\n",
       "                                     layer_type  \n",
       "id                                               \n",
       "d9cd38a1-ca0a-4d7b-b2d0-21acc8519ca5     Shapes  \n",
       "5061f660-efae-4a77-a488-02561fd823c3     Shapes  \n",
       "4a961c6c-c725-4668-a734-ab04065b7930     Shapes  \n",
       "1a1d95eb-42dc-4c94-aa92-7d621cc9ba6c     Shapes  \n",
       "b0896d7c-71fd-4e97-bf7a-a3bc8a19bc32     Points  "
      ]
     },
     "execution_count": 11,
     "metadata": {},
     "output_type": "execute_result"
    }
   ],
   "source": [
    "xd.annotations[\"TestKey\"].head()"
   ]
  },
  {
   "cell_type": "markdown",
   "id": "66218108",
   "metadata": {},
   "source": [
    "#### Export annotations or regions\n",
    "\n",
    "To export annotations or regions, one can save the `AnnotationsData` or `RegionsData` object as `.geojson` file."
   ]
  },
  {
   "cell_type": "code",
   "execution_count": 12,
   "id": "a5c2a243",
   "metadata": {},
   "outputs": [],
   "source": [
    "xd.annotations.save(path=CACHE / \"out/annotations_export\", overwrite=True)"
   ]
  },
  {
   "cell_type": "markdown",
   "id": "0d607e9f",
   "metadata": {},
   "source": [
    "### 2. Create annotations in QuPath\n",
    "\n",
    "To create annotations in QuPath, follow these steps:\n",
    "\n",
    "1. Export the registered HE image as OME-TIFF by setting `as_zarr=False`:"
   ]
  },
  {
   "cell_type": "code",
   "execution_count": 13,
   "id": "5b680ea6",
   "metadata": {},
   "outputs": [],
   "source": [
    "xd.images.save(CACHE / \"out/image_export\", keys_to_save=\"HE\", as_zarr=False, overwrite=True)"
   ]
  },
  {
   "cell_type": "markdown",
   "id": "560ab4cd",
   "metadata": {},
   "source": [
    "2. Open the exported image in QuPath and start with the annotations. Documentations on QuPath can be found [here](https://qupath.readthedocs.io/en/stable/index.html).\n",
    "\n",
    "3. Select a annotation tool from the bar on the top left:\n",
    "\n",
    "<center><img src=\"./demo_screenshots/qupath_annotation_buttons.jpg\" width=\"300\"/></center>\n",
    "\n",
    "4. Add as many annotations as you want and label them by setting classes in the annotation list. Do not forget to press the \"Set class\" button:\n",
    "\n",
    "<center><img src=\"./demo_screenshots/qupath_annotation_list.jpg\" width=\"350\"/></center>\n",
    "\n",
    "5. Export annotations using `File > Export objects as GeoJSON`. Tick `Pretty JSON` to get an easily readable JSON file. The file name needs to have following structure: `annotation-{slide_id}__{sample_id}__{annotation_label}`.\n",
    "\n",
    "### Import annotations into `InSituData`\n",
    "\n",
    "For demonstration purposes, we created dummy annotation files in `./demo_annotations/`. To add the annotations to `InSituData` follow the steps below.\n",
    "\n",
    "### 3. Create regions in QuPath\n",
    "\n",
    "For creating regions, one can use the same annotation tools as described above. But instead of setting a class for the annotation, you can name the region by double-clicking on it, and selecting \"Set Properties\":\n",
    "\n",
    "<center><img src=\"./demo_screenshots/set_properties.png\" width=\"350\"/></center>"
   ]
  },
  {
   "attachments": {
    "image.png": {
     "image/png": "[encoded data removed]"
    }
   },
   "cell_type": "markdown",
   "id": "1eadda01",
   "metadata": {},
   "source": [
    "## Import annotations and regions\n",
    "\n",
    "Since annotations could have been done on images with different resolutions, it is important to specify the `pixel_size` during the import. In standard Xenium experiments the pixel size is 0.2125 µm but if the images were downscaled before the annotation, this value might differ.\n",
    "\n",
    "In `QuPath` the pixel size and other image metadata can be looked up under \"Image\" and \"Pixel width\" or \"Pixel height\":\n",
    "![](attachment:image.png)"
   ]
  },
  {
   "cell_type": "code",
   "execution_count": 14,
   "id": "b69521c6",
   "metadata": {},
   "outputs": [],
   "source": [
    "xd.import_annotations(\n",
    "    files=[\n",
    "        \"./demo_annotations/annotations-0001879__Replicate 1__demo.geojson\",\n",
    "        \"./demo_annotations/annotations-0001879__Replicate 1__demo2.geojson\",\n",
    "        \"./demo_annotations/annotations-mixed_types.geojson\"\n",
    "           ],\n",
    "    keys=[\"demo\", \"demo2\", \"demo3\"],\n",
    "    scale_factor=0.2125\n",
    "    )"
   ]
  },
  {
   "cell_type": "code",
   "execution_count": 15,
   "id": "b05d031f",
   "metadata": {},
   "outputs": [
    {
     "data": {
      "text/html": [
       "<div>\n",
       "<style scoped>\n",
       "    .dataframe tbody tr th:only-of-type {\n",
       "        vertical-align: middle;\n",
       "    }\n",
       "\n",
       "    .dataframe tbody tr th {\n",
       "        vertical-align: top;\n",
       "    }\n",
       "\n",
       "    .dataframe thead th {\n",
       "        text-align: right;\n",
       "    }\n",
       "</style>\n",
       "<table border=\"1\" class=\"dataframe\">\n",
       "  <thead>\n",
       "    <tr style=\"text-align: right;\">\n",
       "      <th></th>\n",
       "      <th>objectType</th>\n",
       "      <th>geometry</th>\n",
       "      <th>name</th>\n",
       "      <th>color</th>\n",
       "      <th>origin</th>\n",
       "      <th>layer_type</th>\n",
       "    </tr>\n",
       "    <tr>\n",
       "      <th>id</th>\n",
       "      <th></th>\n",
       "      <th></th>\n",
       "      <th></th>\n",
       "      <th></th>\n",
       "      <th></th>\n",
       "      <th></th>\n",
       "    </tr>\n",
       "  </thead>\n",
       "  <tbody>\n",
       "    <tr>\n",
       "      <th>bd3aacca-1716-4df8-91dd-bf8f6413a7bd</th>\n",
       "      <td>annotation</td>\n",
       "      <td>POLYGON ((1883.38750 2297.97500, 1883.38750 23...</td>\n",
       "      <td>Positive</td>\n",
       "      <td>[250, 62, 62]</td>\n",
       "      <td>file</td>\n",
       "      <td>Shapes</td>\n",
       "    </tr>\n",
       "    <tr>\n",
       "      <th>69814505-4059-42cd-8df2-752f7eb0810d</th>\n",
       "      <td>annotation</td>\n",
       "      <td>POLYGON ((2782.90000 2654.55000, 2777.88500 26...</td>\n",
       "      <td>Positive</td>\n",
       "      <td>[250, 62, 62]</td>\n",
       "      <td>file</td>\n",
       "      <td>Shapes</td>\n",
       "    </tr>\n",
       "    <tr>\n",
       "      <th>1957cd32-0a21-4b45-9dae-ecf236217140</th>\n",
       "      <td>annotation</td>\n",
       "      <td>POLYGON ((6582.24275 4874.32500, 6583.67500 48...</td>\n",
       "      <td>Negative</td>\n",
       "      <td>[112, 112, 225]</td>\n",
       "      <td>file</td>\n",
       "      <td>Shapes</td>\n",
       "    </tr>\n",
       "    <tr>\n",
       "      <th>19d2197a-1b8e-456f-8223-fba74641ac1c</th>\n",
       "      <td>annotation</td>\n",
       "      <td>POLYGON ((6622.56250 3486.70000, 6619.16250 34...</td>\n",
       "      <td>Negative</td>\n",
       "      <td>[112, 112, 225]</td>\n",
       "      <td>file</td>\n",
       "      <td>Shapes</td>\n",
       "    </tr>\n",
       "  </tbody>\n",
       "</table>\n",
       "</div>"
      ],
      "text/plain": [
       "                                      objectType  \\\n",
       "id                                                 \n",
       "bd3aacca-1716-4df8-91dd-bf8f6413a7bd  annotation   \n",
       "69814505-4059-42cd-8df2-752f7eb0810d  annotation   \n",
       "1957cd32-0a21-4b45-9dae-ecf236217140  annotation   \n",
       "19d2197a-1b8e-456f-8223-fba74641ac1c  annotation   \n",
       "\n",
       "                                                                               geometry  \\\n",
       "id                                                                                        \n",
       "bd3aacca-1716-4df8-91dd-bf8f6413a7bd  POLYGON ((1883.38750 2297.97500, 1883.38750 23...   \n",
       "69814505-4059-42cd-8df2-752f7eb0810d  POLYGON ((2782.90000 2654.55000, 2777.88500 26...   \n",
       "1957cd32-0a21-4b45-9dae-ecf236217140  POLYGON ((6582.24275 4874.32500, 6583.67500 48...   \n",
       "19d2197a-1b8e-456f-8223-fba74641ac1c  POLYGON ((6622.56250 3486.70000, 6619.16250 34...   \n",
       "\n",
       "                                          name            color origin  \\\n",
       "id                                                                       \n",
       "bd3aacca-1716-4df8-91dd-bf8f6413a7bd  Positive    [250, 62, 62]   file   \n",
       "69814505-4059-42cd-8df2-752f7eb0810d  Positive    [250, 62, 62]   file   \n",
       "1957cd32-0a21-4b45-9dae-ecf236217140  Negative  [112, 112, 225]   file   \n",
       "19d2197a-1b8e-456f-8223-fba74641ac1c  Negative  [112, 112, 225]   file   \n",
       "\n",
       "                                     layer_type  \n",
       "id                                               \n",
       "bd3aacca-1716-4df8-91dd-bf8f6413a7bd     Shapes  \n",
       "69814505-4059-42cd-8df2-752f7eb0810d     Shapes  \n",
       "1957cd32-0a21-4b45-9dae-ecf236217140     Shapes  \n",
       "19d2197a-1b8e-456f-8223-fba74641ac1c     Shapes  "
      ]
     },
     "execution_count": 15,
     "metadata": {},
     "output_type": "execute_result"
    }
   ],
   "source": [
    "xd.annotations[\"demo\"]"
   ]
  },
  {
   "cell_type": "code",
   "execution_count": 16,
   "id": "e84ea6d2",
   "metadata": {},
   "outputs": [
    {
     "data": {
      "text/html": [
       "<div>\n",
       "<style scoped>\n",
       "    .dataframe tbody tr th:only-of-type {\n",
       "        vertical-align: middle;\n",
       "    }\n",
       "\n",
       "    .dataframe tbody tr th {\n",
       "        vertical-align: top;\n",
       "    }\n",
       "\n",
       "    .dataframe thead th {\n",
       "        text-align: right;\n",
       "    }\n",
       "</style>\n",
       "<table border=\"1\" class=\"dataframe\">\n",
       "  <thead>\n",
       "    <tr style=\"text-align: right;\">\n",
       "      <th></th>\n",
       "      <th>objectType</th>\n",
       "      <th>geometry</th>\n",
       "      <th>name</th>\n",
       "      <th>color</th>\n",
       "      <th>origin</th>\n",
       "      <th>layer_type</th>\n",
       "    </tr>\n",
       "    <tr>\n",
       "      <th>id</th>\n",
       "      <th></th>\n",
       "      <th></th>\n",
       "      <th></th>\n",
       "      <th></th>\n",
       "      <th></th>\n",
       "      <th></th>\n",
       "    </tr>\n",
       "  </thead>\n",
       "  <tbody>\n",
       "    <tr>\n",
       "      <th>1970eccb-ad38-4b4b-b7a8-54509027b57d</th>\n",
       "      <td>annotation</td>\n",
       "      <td>POLYGON ((5380.28750 827.05000, 5379.01250 827...</td>\n",
       "      <td>Negative</td>\n",
       "      <td>[112, 112, 225]</td>\n",
       "      <td>file</td>\n",
       "      <td>Shapes</td>\n",
       "    </tr>\n",
       "    <tr>\n",
       "      <th>a3b32cce-1bb9-4a6f-b1d1-9e0c44420cfa</th>\n",
       "      <td>annotation</td>\n",
       "      <td>POLYGON ((6576.87500 2306.68750, 6575.60000 23...</td>\n",
       "      <td>Positive</td>\n",
       "      <td>[250, 62, 62]</td>\n",
       "      <td>file</td>\n",
       "      <td>Shapes</td>\n",
       "    </tr>\n",
       "    <tr>\n",
       "      <th>92bfe928-a21f-4864-b7cb-f0d300113d88</th>\n",
       "      <td>annotation</td>\n",
       "      <td>MULTIPOLYGON (((4575.97500 4152.46250, 4575.97...</td>\n",
       "      <td>Other</td>\n",
       "      <td>[255, 200, 0]</td>\n",
       "      <td>file</td>\n",
       "      <td>Shapes</td>\n",
       "    </tr>\n",
       "    <tr>\n",
       "      <th>a6c17a54-6839-40b2-8531-c9227635f344</th>\n",
       "      <td>annotation</td>\n",
       "      <td>POLYGON ((1381.46250 3639.27500, 1380.18750 36...</td>\n",
       "      <td>Other</td>\n",
       "      <td>[255, 200, 0]</td>\n",
       "      <td>file</td>\n",
       "      <td>Shapes</td>\n",
       "    </tr>\n",
       "    <tr>\n",
       "      <th>e78efe2f-d185-4ab6-9cc9-6621897f3662</th>\n",
       "      <td>annotation</td>\n",
       "      <td>POLYGON ((6272.92137 3936.13750, 6263.65000 39...</td>\n",
       "      <td>Negative</td>\n",
       "      <td>[112, 112, 225]</td>\n",
       "      <td>file</td>\n",
       "      <td>Shapes</td>\n",
       "    </tr>\n",
       "  </tbody>\n",
       "</table>\n",
       "</div>"
      ],
      "text/plain": [
       "                                      objectType  \\\n",
       "id                                                 \n",
       "1970eccb-ad38-4b4b-b7a8-54509027b57d  annotation   \n",
       "a3b32cce-1bb9-4a6f-b1d1-9e0c44420cfa  annotation   \n",
       "92bfe928-a21f-4864-b7cb-f0d300113d88  annotation   \n",
       "a6c17a54-6839-40b2-8531-c9227635f344  annotation   \n",
       "e78efe2f-d185-4ab6-9cc9-6621897f3662  annotation   \n",
       "\n",
       "                                                                               geometry  \\\n",
       "id                                                                                        \n",
       "1970eccb-ad38-4b4b-b7a8-54509027b57d  POLYGON ((5380.28750 827.05000, 5379.01250 827...   \n",
       "a3b32cce-1bb9-4a6f-b1d1-9e0c44420cfa  POLYGON ((6576.87500 2306.68750, 6575.60000 23...   \n",
       "92bfe928-a21f-4864-b7cb-f0d300113d88  MULTIPOLYGON (((4575.97500 4152.46250, 4575.97...   \n",
       "a6c17a54-6839-40b2-8531-c9227635f344  POLYGON ((1381.46250 3639.27500, 1380.18750 36...   \n",
       "e78efe2f-d185-4ab6-9cc9-6621897f3662  POLYGON ((6272.92137 3936.13750, 6263.65000 39...   \n",
       "\n",
       "                                          name            color origin  \\\n",
       "id                                                                       \n",
       "1970eccb-ad38-4b4b-b7a8-54509027b57d  Negative  [112, 112, 225]   file   \n",
       "a3b32cce-1bb9-4a6f-b1d1-9e0c44420cfa  Positive    [250, 62, 62]   file   \n",
       "92bfe928-a21f-4864-b7cb-f0d300113d88     Other    [255, 200, 0]   file   \n",
       "a6c17a54-6839-40b2-8531-c9227635f344     Other    [255, 200, 0]   file   \n",
       "e78efe2f-d185-4ab6-9cc9-6621897f3662  Negative  [112, 112, 225]   file   \n",
       "\n",
       "                                     layer_type  \n",
       "id                                               \n",
       "1970eccb-ad38-4b4b-b7a8-54509027b57d     Shapes  \n",
       "a3b32cce-1bb9-4a6f-b1d1-9e0c44420cfa     Shapes  \n",
       "92bfe928-a21f-4864-b7cb-f0d300113d88     Shapes  \n",
       "a6c17a54-6839-40b2-8531-c9227635f344     Shapes  \n",
       "e78efe2f-d185-4ab6-9cc9-6621897f3662     Shapes  "
      ]
     },
     "execution_count": 16,
     "metadata": {},
     "output_type": "execute_result"
    }
   ],
   "source": [
    "xd.annotations[\"demo2\"]"
   ]
  },
  {
   "cell_type": "code",
   "execution_count": 17,
   "id": "6a62cb64",
   "metadata": {},
   "outputs": [
    {
     "data": {
      "text/html": [
       "<div>\n",
       "<style scoped>\n",
       "    .dataframe tbody tr th:only-of-type {\n",
       "        vertical-align: middle;\n",
       "    }\n",
       "\n",
       "    .dataframe tbody tr th {\n",
       "        vertical-align: top;\n",
       "    }\n",
       "\n",
       "    .dataframe thead th {\n",
       "        text-align: right;\n",
       "    }\n",
       "</style>\n",
       "<table border=\"1\" class=\"dataframe\">\n",
       "  <thead>\n",
       "    <tr style=\"text-align: right;\">\n",
       "      <th></th>\n",
       "      <th>objectType</th>\n",
       "      <th>geometry</th>\n",
       "      <th>name</th>\n",
       "      <th>color</th>\n",
       "      <th>origin</th>\n",
       "      <th>layer_type</th>\n",
       "    </tr>\n",
       "    <tr>\n",
       "      <th>id</th>\n",
       "      <th></th>\n",
       "      <th></th>\n",
       "      <th></th>\n",
       "      <th></th>\n",
       "      <th></th>\n",
       "      <th></th>\n",
       "    </tr>\n",
       "  </thead>\n",
       "  <tbody>\n",
       "    <tr>\n",
       "      <th>8f57c3c3-2216-48b7-99bd-aba12d8c3c41</th>\n",
       "      <td>annotation</td>\n",
       "      <td>POLYGON ((3828.40000 2261.74375, 3827.81350 22...</td>\n",
       "      <td>Stroma</td>\n",
       "      <td>[150, 200, 150]</td>\n",
       "      <td>file</td>\n",
       "      <td>Shapes</td>\n",
       "    </tr>\n",
       "    <tr>\n",
       "      <th>7e8f8db4-81d4-472e-8e93-0fc756df87aa</th>\n",
       "      <td>annotation</td>\n",
       "      <td>POLYGON ((2618.42500 1436.07500, 2618.07225 14...</td>\n",
       "      <td>Stroma</td>\n",
       "      <td>[150, 200, 150]</td>\n",
       "      <td>file</td>\n",
       "      <td>Shapes</td>\n",
       "    </tr>\n",
       "    <tr>\n",
       "      <th>38a48ddb-f33c-4c61-b996-330b25d84081</th>\n",
       "      <td>annotation</td>\n",
       "      <td>LINESTRING (3600.55750 1648.75350, 3878.03575 ...</td>\n",
       "      <td>Necrosis</td>\n",
       "      <td>[50, 50, 50]</td>\n",
       "      <td>file</td>\n",
       "      <td>Shapes</td>\n",
       "    </tr>\n",
       "    <tr>\n",
       "      <th>eee244c9-e919-41ae-bb91-44c7abcc0cec</th>\n",
       "      <td>annotation</td>\n",
       "      <td>LINESTRING (2483.62350 1334.39587, 2855.93413 ...</td>\n",
       "      <td>Immune cells</td>\n",
       "      <td>[160, 90, 160]</td>\n",
       "      <td>file</td>\n",
       "      <td>Shapes</td>\n",
       "    </tr>\n",
       "    <tr>\n",
       "      <th>e3d4c0b6-0998-4692-ab7d-f580f713e275</th>\n",
       "      <td>annotation</td>\n",
       "      <td>POINT (5096.23663 1632.56312)</td>\n",
       "      <td>unclassified</td>\n",
       "      <td>[0, 0, 0]</td>\n",
       "      <td>file</td>\n",
       "      <td>Points</td>\n",
       "    </tr>\n",
       "    <tr>\n",
       "      <th>e9105240-3b35-489e-994f-e8f9c4786516</th>\n",
       "      <td>annotation</td>\n",
       "      <td>MULTIPOINT (4219.65500 1650.71913, 4261.94675 ...</td>\n",
       "      <td>Stroma</td>\n",
       "      <td>[150, 200, 150]</td>\n",
       "      <td>file</td>\n",
       "      <td>Points</td>\n",
       "    </tr>\n",
       "    <tr>\n",
       "      <th>2802df97-78ad-44ac-8e6b-d9b9406c8e3f</th>\n",
       "      <td>annotation</td>\n",
       "      <td>MULTIPOINT (3372.79150 2005.41562, 3530.04150 ...</td>\n",
       "      <td>Tumor</td>\n",
       "      <td>[200, 0, 0]</td>\n",
       "      <td>file</td>\n",
       "      <td>Points</td>\n",
       "    </tr>\n",
       "  </tbody>\n",
       "</table>\n",
       "</div>"
      ],
      "text/plain": [
       "                                      objectType  \\\n",
       "id                                                 \n",
       "8f57c3c3-2216-48b7-99bd-aba12d8c3c41  annotation   \n",
       "7e8f8db4-81d4-472e-8e93-0fc756df87aa  annotation   \n",
       "38a48ddb-f33c-4c61-b996-330b25d84081  annotation   \n",
       "eee244c9-e919-41ae-bb91-44c7abcc0cec  annotation   \n",
       "e3d4c0b6-0998-4692-ab7d-f580f713e275  annotation   \n",
       "e9105240-3b35-489e-994f-e8f9c4786516  annotation   \n",
       "2802df97-78ad-44ac-8e6b-d9b9406c8e3f  annotation   \n",
       "\n",
       "                                                                               geometry  \\\n",
       "id                                                                                        \n",
       "8f57c3c3-2216-48b7-99bd-aba12d8c3c41  POLYGON ((3828.40000 2261.74375, 3827.81350 22...   \n",
       "7e8f8db4-81d4-472e-8e93-0fc756df87aa  POLYGON ((2618.42500 1436.07500, 2618.07225 14...   \n",
       "38a48ddb-f33c-4c61-b996-330b25d84081  LINESTRING (3600.55750 1648.75350, 3878.03575 ...   \n",
       "eee244c9-e919-41ae-bb91-44c7abcc0cec  LINESTRING (2483.62350 1334.39587, 2855.93413 ...   \n",
       "e3d4c0b6-0998-4692-ab7d-f580f713e275                      POINT (5096.23663 1632.56312)   \n",
       "e9105240-3b35-489e-994f-e8f9c4786516  MULTIPOINT (4219.65500 1650.71913, 4261.94675 ...   \n",
       "2802df97-78ad-44ac-8e6b-d9b9406c8e3f  MULTIPOINT (3372.79150 2005.41562, 3530.04150 ...   \n",
       "\n",
       "                                              name            color origin  \\\n",
       "id                                                                           \n",
       "8f57c3c3-2216-48b7-99bd-aba12d8c3c41        Stroma  [150, 200, 150]   file   \n",
       "7e8f8db4-81d4-472e-8e93-0fc756df87aa        Stroma  [150, 200, 150]   file   \n",
       "38a48ddb-f33c-4c61-b996-330b25d84081      Necrosis     [50, 50, 50]   file   \n",
       "eee244c9-e919-41ae-bb91-44c7abcc0cec  Immune cells   [160, 90, 160]   file   \n",
       "e3d4c0b6-0998-4692-ab7d-f580f713e275  unclassified        [0, 0, 0]   file   \n",
       "e9105240-3b35-489e-994f-e8f9c4786516        Stroma  [150, 200, 150]   file   \n",
       "2802df97-78ad-44ac-8e6b-d9b9406c8e3f         Tumor      [200, 0, 0]   file   \n",
       "\n",
       "                                     layer_type  \n",
       "id                                               \n",
       "8f57c3c3-2216-48b7-99bd-aba12d8c3c41     Shapes  \n",
       "7e8f8db4-81d4-472e-8e93-0fc756df87aa     Shapes  \n",
       "38a48ddb-f33c-4c61-b996-330b25d84081     Shapes  \n",
       "eee244c9-e919-41ae-bb91-44c7abcc0cec     Shapes  \n",
       "e3d4c0b6-0998-4692-ab7d-f580f713e275     Points  \n",
       "e9105240-3b35-489e-994f-e8f9c4786516     Points  \n",
       "2802df97-78ad-44ac-8e6b-d9b9406c8e3f     Points  "
      ]
     },
     "execution_count": 17,
     "metadata": {},
     "output_type": "execute_result"
    }
   ],
   "source": [
    "xd.annotations[\"demo3\"]"
   ]
  },
  {
   "cell_type": "markdown",
   "id": "1983a1d9",
   "metadata": {},
   "source": [
    "## Load regions\n",
    "\n",
    "Regions can be created in QuPath either as described above or using tools like the TMA dearrayer. They are also exported as objects as annotations but different to annotations they do not have a classification and each name of a region has to be unique.\n",
    "\n",
    "In the following demo regions are read. One of the region files has non-unique names to demonstrate the warning that appears in this case."
   ]
  },
  {
   "cell_type": "markdown",
   "id": "0ac89ee1",
   "metadata": {},
   "source": [
    "### In regions classes have to be unique\n",
    "\n",
    "When reading an \"Annotation\" `.geojson` as shown below, the `import_regions` function throws an error indicating that in regions only one geometry per class is allowed. Further, only normal polygons (`shapely.Polygon`-typed) are allowed. Any other types of geometries (Points, Lines, MultiPolygons, ...) are skipped."
   ]
  },
  {
   "cell_type": "code",
   "execution_count": 18,
   "id": "b0a0751d",
   "metadata": {},
   "outputs": [],
   "source": [
    "xd.import_regions(\n",
    "    files=[\n",
    "        \"./demo_annotations/annotations-mixed_types.geojson\"\n",
    "        ],\n",
    "    keys=['test'],\n",
    "    scale_factor=0.2125\n",
    "    )"
   ]
  },
  {
   "cell_type": "markdown",
   "id": "2cd3a936",
   "metadata": {},
   "source": [
    "Multiple regions can be imported simultaneously."
   ]
  },
  {
   "cell_type": "code",
   "execution_count": 19,
   "id": "dfc26eec",
   "metadata": {},
   "outputs": [],
   "source": [
    "xd.import_regions(\n",
    "    files=[\n",
    "        \"./demo_regions/regions-0001879__Replicate 1__demo_regions.geojson\",\n",
    "        \"./demo_regions/regions-0001879__Replicate 1__TMA.geojson\",\n",
    "        ],\n",
    "    keys=['demo_regions', 'TMA'],\n",
    "    scale_factor=0.2125\n",
    "    )"
   ]
  },
  {
   "cell_type": "markdown",
   "id": "cdcdf2fc",
   "metadata": {},
   "source": [
    "Properties of the `anotations` and `regions` modalities can be inspected in the InSituData representation:"
   ]
  },
  {
   "cell_type": "code",
   "execution_count": 20,
   "id": "e1b94a87",
   "metadata": {},
   "outputs": [
    {
     "data": {
      "text/plain": [
       "\u001b[1m\u001b[31mInSituData\u001b[0m\n",
       "\u001b[1mMethod:\u001b[0m\t\tXenium\n",
       "\u001b[1mSlide ID:\u001b[0m\t0001879\n",
       "\u001b[1mSample ID:\u001b[0m\tReplicate 1\n",
       "\u001b[1mPath:\u001b[0m\t\tC:\\Users\\ge37voy\\.cache\\InSituPy\\out\\demo_insitupy_project\n",
       "\u001b[1mMetadata file:\u001b[0m\t.ispy\n",
       "    ➤ \u001b[34m\u001b[1mimages\u001b[0m\n",
       "       \u001b[1mnuclei:\u001b[0m\t(25778, 35416)\n",
       "       \u001b[1mCD20:\u001b[0m\t(25778, 35416)\n",
       "       \u001b[1mHER2:\u001b[0m\t(25778, 35416)\n",
       "       \u001b[1mHE:\u001b[0m\t(25778, 35416, 3)\n",
       "    ➤\u001b[32m\u001b[1m cells\u001b[0m\n",
       "       \u001b[1mmatrix\u001b[0m\n",
       "           AnnData object with n_obs × n_vars = 157600 × 297\n",
       "           obs: 'transcript_counts', 'control_probe_counts', 'control_codeword_counts', 'total_counts', 'cell_area', 'nucleus_area', 'n_genes_by_counts', 'n_genes', 'leiden'\n",
       "           var: 'gene_ids', 'feature_types', 'genome', 'n_cells_by_counts', 'mean_counts', 'pct_dropout_by_counts', 'total_counts', 'n_cells'\n",
       "           uns: 'leiden', 'leiden_colors', 'log1p', 'neighbors', 'pca', 'umap'\n",
       "           obsm: 'X_pca', 'X_umap', 'spatial'\n",
       "           varm: 'PCs'\n",
       "           layers: 'counts', 'norm_counts'\n",
       "           obsp: 'connectivities', 'distances'\n",
       "       \u001b[1mboundaries\u001b[0m\n",
       "           BoundariesData object with 2 entries:\n",
       "               \u001b[1mcells\u001b[0m\n",
       "               \u001b[1mnuclei\u001b[0m\n",
       "    ➤ \u001b[36m\u001b[1mannotations\u001b[0m\n",
       "       \u001b[1mTestKey:\u001b[0m\t8 annotations, 2 classes ('TestClass','points') \n",
       "       \u001b[1mdemo:\u001b[0m\t4 annotations, 2 classes ('Positive','Negative') \n",
       "       \u001b[1mdemo2:\u001b[0m\t5 annotations, 3 classes ('Negative','Positive','Other') \n",
       "       \u001b[1mdemo3:\u001b[0m\t7 annotations, 5 classes ('Stroma','Necrosis','Immune cells','unclassified','Tumor') \n",
       "    ➤ \u001b[36m\u001b[1mregions\u001b[0m\n",
       "       \u001b[1mtest:\u001b[0m\t7 regions, 5 classes ('Stroma','Necrosis','Immune cells','unclassified','Tumor') \n",
       "       \u001b[1mdemo_regions:\u001b[0m\t3 regions, 3 classes ('Region1','Region2','Region3') \n",
       "       \u001b[1mTMA:\u001b[0m\t6 regions, 6 classes ('B-2','A-3','B-1','B-3','A-1','A-2') "
      ]
     },
     "execution_count": 20,
     "metadata": {},
     "output_type": "execute_result"
    }
   ],
   "source": [
    "xd"
   ]
  },
  {
   "cell_type": "markdown",
   "id": "f07212cb",
   "metadata": {},
   "source": [
    "## Visualization of `annotations` and `regions` using `napari` viewer\n",
    "\n",
    "Ìf the `InSituData` object only contains `.annotations` or `.regions` attributes, one can choose between the \"Add geometries\" and \"Show geometries\" widgets:\n",
    "<center><img src=\"./demo_screenshots/toggle_geometry_widgets.jpg\" width=\"200\"/></center>\n",
    "\n",
    "Annotations and regions stored in the `InSituData` object can be visualized using the \"Show geometries\" widget:\n",
    "<center><img src=\"./demo_screenshots/show_geometries_widget.jpg\" width=\"200\"/></center>\n",
    "\n",
    "To show the names of the annotations, tick \"Show names\":\n",
    "<center><img src=\"./demo_screenshots/show_names_example.jpg\" width=\"200\"/></center>\n"
   ]
  },
  {
   "cell_type": "code",
   "execution_count": 21,
   "id": "5c925e30",
   "metadata": {},
   "outputs": [],
   "source": [
    "xd.show()"
   ]
  },
  {
   "cell_type": "markdown",
   "id": "320ab6d4",
   "metadata": {},
   "source": [
    "### Assign annotations to observations\n",
    "\n",
    "To use the annotations in analyses (e.g. to select only observations within a certain annotation or compare gene expression between different annotations) one can use the `assign_annotations` function. It adds columns containing the annotation class to `xd.matrix.obs`. The column has the syntax `annotation-{Label}` and if an observation is not part of any annotation within this label, it contains `NaN`. "
   ]
  },
  {
   "cell_type": "code",
   "execution_count": 21,
   "id": "6a8f3255",
   "metadata": {},
   "outputs": [
    {
     "name": "stdout",
     "output_type": "stream",
     "text": [
      "Assigning key 'TestKey'...\n",
      "Added results to `.cells.matrix.obsm['annotations']\n",
      "Assigning key 'demo'...\n",
      "Added results to `.cells.matrix.obsm['annotations']\n",
      "Assigning key 'demo2'...\n",
      "Added results to `.cells.matrix.obsm['annotations']\n",
      "Assigning key 'demo3'...\n",
      "Added results to `.cells.matrix.obsm['annotations']\n"
     ]
    }
   ],
   "source": [
    "xd.assign_annotations(overwrite=True)"
   ]
  },
  {
   "cell_type": "code",
   "execution_count": 22,
   "id": "17a23cdb",
   "metadata": {},
   "outputs": [
    {
     "name": "stdout",
     "output_type": "stream",
     "text": [
      "Assigning key 'test'...\n",
      "Added results to `.cells.matrix.obsm['regions']\n",
      "Assigning key 'demo_regions'...\n",
      "Added results to `.cells.matrix.obsm['regions']\n",
      "Assigning key 'TMA'...\n",
      "Added results to `.cells.matrix.obsm['regions']\n"
     ]
    }
   ],
   "source": [
    "xd.assign_regions()"
   ]
  },
  {
   "cell_type": "code",
   "execution_count": 23,
   "id": "4e29bd1f",
   "metadata": {},
   "outputs": [
    {
     "data": {
      "text/plain": [
       "\u001b[1m\u001b[31mInSituData\u001b[0m\n",
       "\u001b[1mMethod:\u001b[0m\t\tXenium\n",
       "\u001b[1mSlide ID:\u001b[0m\t0001879\n",
       "\u001b[1mSample ID:\u001b[0m\tReplicate 1\n",
       "\u001b[1mPath:\u001b[0m\t\tC:\\Users\\ge37voy\\.cache\\InSituPy\\out\\demo_insitupy_project\n",
       "\u001b[1mMetadata file:\u001b[0m\t.ispy\n",
       "    ➤ \u001b[34m\u001b[1mimages\u001b[0m\n",
       "       \u001b[1mnuclei:\u001b[0m\t(25778, 35416)\n",
       "       \u001b[1mCD20:\u001b[0m\t(25778, 35416)\n",
       "       \u001b[1mHER2:\u001b[0m\t(25778, 35416)\n",
       "       \u001b[1mHE:\u001b[0m\t(25778, 35416, 3)\n",
       "    ➤\u001b[32m\u001b[1m cells\u001b[0m\n",
       "       \u001b[1mmatrix\u001b[0m\n",
       "           AnnData object with n_obs × n_vars = 157600 × 297\n",
       "           obs: 'transcript_counts', 'control_probe_counts', 'control_codeword_counts', 'total_counts', 'cell_area', 'nucleus_area', 'n_genes_by_counts', 'n_genes', 'leiden'\n",
       "           var: 'gene_ids', 'feature_types', 'genome', 'n_cells_by_counts', 'mean_counts', 'pct_dropout_by_counts', 'total_counts', 'n_cells'\n",
       "           uns: 'leiden', 'leiden_colors', 'log1p', 'neighbors', 'pca', 'umap'\n",
       "           obsm: 'X_pca', 'X_umap', 'spatial', 'annotations', 'regions'\n",
       "           varm: 'PCs'\n",
       "           layers: 'counts', 'norm_counts'\n",
       "           obsp: 'connectivities', 'distances'\n",
       "       \u001b[1mboundaries\u001b[0m\n",
       "           BoundariesData object with 2 entries:\n",
       "               \u001b[1mcells\u001b[0m\n",
       "               \u001b[1mnuclei\u001b[0m\n",
       "    ➤ \u001b[36m\u001b[1mannotations\u001b[0m\n",
       "       \u001b[1mTestKey:\u001b[0m\t8 annotations, 2 classes ('TestClass','points') ✔\n",
       "       \u001b[1mdemo:\u001b[0m\t4 annotations, 2 classes ('Positive','Negative') ✔\n",
       "       \u001b[1mdemo2:\u001b[0m\t5 annotations, 3 classes ('Negative','Positive','Other') ✔\n",
       "       \u001b[1mdemo3:\u001b[0m\t7 annotations, 5 classes ('Stroma','Necrosis','Immune cells','unclassified','Tumor') ✔\n",
       "    ➤ \u001b[36m\u001b[1mregions\u001b[0m\n",
       "       \u001b[1mtest:\u001b[0m\t7 regions, 5 classes ('Stroma','Necrosis','Immune cells','unclassified','Tumor') ✔\n",
       "       \u001b[1mdemo_regions:\u001b[0m\t3 regions, 3 classes ('Region1','Region2','Region3') ✔\n",
       "       \u001b[1mTMA:\u001b[0m\t6 regions, 6 classes ('B-2','A-3','B-1','B-3','A-1','A-2') ✔"
      ]
     },
     "execution_count": 23,
     "metadata": {},
     "output_type": "execute_result"
    }
   ],
   "source": [
    "xd"
   ]
  },
  {
   "cell_type": "markdown",
   "id": "901bcfc0",
   "metadata": {},
   "source": [
    "After assigning the annotations, the already analyzed labels analyzed are marked with a ✔:"
   ]
  },
  {
   "cell_type": "code",
   "execution_count": 24,
   "id": "d28ddf46",
   "metadata": {},
   "outputs": [
    {
     "data": {
      "text/html": [
       "<div>\n",
       "<style scoped>\n",
       "    .dataframe tbody tr th:only-of-type {\n",
       "        vertical-align: middle;\n",
       "    }\n",
       "\n",
       "    .dataframe tbody tr th {\n",
       "        vertical-align: top;\n",
       "    }\n",
       "\n",
       "    .dataframe thead th {\n",
       "        text-align: right;\n",
       "    }\n",
       "</style>\n",
       "<table border=\"1\" class=\"dataframe\">\n",
       "  <thead>\n",
       "    <tr style=\"text-align: right;\">\n",
       "      <th></th>\n",
       "      <th>objectType</th>\n",
       "      <th>name</th>\n",
       "      <th>geometry</th>\n",
       "      <th>origin</th>\n",
       "      <th>layer_type</th>\n",
       "    </tr>\n",
       "    <tr>\n",
       "      <th>id</th>\n",
       "      <th></th>\n",
       "      <th></th>\n",
       "      <th></th>\n",
       "      <th></th>\n",
       "      <th></th>\n",
       "    </tr>\n",
       "  </thead>\n",
       "  <tbody>\n",
       "    <tr>\n",
       "      <th>2d0da635-c408-459f-9178-839097fe5a98</th>\n",
       "      <td>annotation</td>\n",
       "      <td>Region1</td>\n",
       "      <td>POLYGON ((1564.42500 1321.96250, 2267.80000 13...</td>\n",
       "      <td>file</td>\n",
       "      <td>Shapes</td>\n",
       "    </tr>\n",
       "    <tr>\n",
       "      <th>ce6c2342-620d-4f44-be03-68a4454e9b33</th>\n",
       "      <td>annotation</td>\n",
       "      <td>Region2</td>\n",
       "      <td>POLYGON ((4541.76250 1356.38750, 5613.82500 13...</td>\n",
       "      <td>file</td>\n",
       "      <td>Shapes</td>\n",
       "    </tr>\n",
       "    <tr>\n",
       "      <th>70a125ec-c53e-469b-8927-efe224e504c1</th>\n",
       "      <td>annotation</td>\n",
       "      <td>Region3</td>\n",
       "      <td>POLYGON ((2110.76250 2708.31250, 3387.67500 27...</td>\n",
       "      <td>file</td>\n",
       "      <td>Shapes</td>\n",
       "    </tr>\n",
       "  </tbody>\n",
       "</table>\n",
       "</div>"
      ],
      "text/plain": [
       "                                      objectType     name  \\\n",
       "id                                                          \n",
       "2d0da635-c408-459f-9178-839097fe5a98  annotation  Region1   \n",
       "ce6c2342-620d-4f44-be03-68a4454e9b33  annotation  Region2   \n",
       "70a125ec-c53e-469b-8927-efe224e504c1  annotation  Region3   \n",
       "\n",
       "                                                                               geometry  \\\n",
       "id                                                                                        \n",
       "2d0da635-c408-459f-9178-839097fe5a98  POLYGON ((1564.42500 1321.96250, 2267.80000 13...   \n",
       "ce6c2342-620d-4f44-be03-68a4454e9b33  POLYGON ((4541.76250 1356.38750, 5613.82500 13...   \n",
       "70a125ec-c53e-469b-8927-efe224e504c1  POLYGON ((2110.76250 2708.31250, 3387.67500 27...   \n",
       "\n",
       "                                     origin layer_type  \n",
       "id                                                      \n",
       "2d0da635-c408-459f-9178-839097fe5a98   file     Shapes  \n",
       "ce6c2342-620d-4f44-be03-68a4454e9b33   file     Shapes  \n",
       "70a125ec-c53e-469b-8927-efe224e504c1   file     Shapes  "
      ]
     },
     "execution_count": 24,
     "metadata": {},
     "output_type": "execute_result"
    }
   ],
   "source": [
    "xd.regions[\"demo_regions\"]"
   ]
  },
  {
   "cell_type": "markdown",
   "id": "143488f4",
   "metadata": {},
   "source": [
    "Following cells show examples how to explore the assigned annotations:"
   ]
  },
  {
   "cell_type": "code",
   "execution_count": 25,
   "id": "2daa0743",
   "metadata": {},
   "outputs": [
    {
     "data": {
      "text/plain": [
       "2         unassigned\n",
       "5         unassigned\n",
       "8         unassigned\n",
       "10        unassigned\n",
       "13        unassigned\n",
       "             ...    \n",
       "167776    unassigned\n",
       "167777    unassigned\n",
       "167778    unassigned\n",
       "167779    unassigned\n",
       "167780    unassigned\n",
       "Name: demo2, Length: 157600, dtype: object"
      ]
     },
     "execution_count": 25,
     "metadata": {},
     "output_type": "execute_result"
    }
   ],
   "source": [
    "xd.cells.matrix.obsm['annotations']['demo2']"
   ]
  },
  {
   "cell_type": "code",
   "execution_count": 26,
   "id": "d8ce99a6",
   "metadata": {},
   "outputs": [
    {
     "data": {
      "text/plain": [
       "demo2\n",
       "unassigned    148458\n",
       "Negative        4839\n",
       "Other           2605\n",
       "Positive        1698\n",
       "Name: count, dtype: int64"
      ]
     },
     "execution_count": 26,
     "metadata": {},
     "output_type": "execute_result"
    }
   ],
   "source": [
    "# print number of cells within each annotation\n",
    "annots = xd.cells.matrix.obsm['annotations']['demo2']\n",
    "annots.value_counts()"
   ]
  },
  {
   "cell_type": "code",
   "execution_count": 27,
   "id": "49fb999c",
   "metadata": {},
   "outputs": [
    {
     "data": {
      "text/html": [
       "<div>\n",
       "<style scoped>\n",
       "    .dataframe tbody tr th:only-of-type {\n",
       "        vertical-align: middle;\n",
       "    }\n",
       "\n",
       "    .dataframe tbody tr th {\n",
       "        vertical-align: top;\n",
       "    }\n",
       "\n",
       "    .dataframe thead th {\n",
       "        text-align: right;\n",
       "    }\n",
       "</style>\n",
       "<table border=\"1\" class=\"dataframe\">\n",
       "  <thead>\n",
       "    <tr style=\"text-align: right;\">\n",
       "      <th></th>\n",
       "      <th>objectType</th>\n",
       "      <th>geometry</th>\n",
       "      <th>name</th>\n",
       "      <th>color</th>\n",
       "      <th>origin</th>\n",
       "      <th>layer_type</th>\n",
       "    </tr>\n",
       "    <tr>\n",
       "      <th>id</th>\n",
       "      <th></th>\n",
       "      <th></th>\n",
       "      <th></th>\n",
       "      <th></th>\n",
       "      <th></th>\n",
       "      <th></th>\n",
       "    </tr>\n",
       "  </thead>\n",
       "  <tbody>\n",
       "    <tr>\n",
       "      <th>1970eccb-ad38-4b4b-b7a8-54509027b57d</th>\n",
       "      <td>annotation</td>\n",
       "      <td>POLYGON ((5380.28750 827.05000, 5379.01250 827...</td>\n",
       "      <td>Negative</td>\n",
       "      <td>[112, 112, 225]</td>\n",
       "      <td>file</td>\n",
       "      <td>Shapes</td>\n",
       "    </tr>\n",
       "    <tr>\n",
       "      <th>a3b32cce-1bb9-4a6f-b1d1-9e0c44420cfa</th>\n",
       "      <td>annotation</td>\n",
       "      <td>POLYGON ((6576.87500 2306.68750, 6575.60000 23...</td>\n",
       "      <td>Positive</td>\n",
       "      <td>[250, 62, 62]</td>\n",
       "      <td>file</td>\n",
       "      <td>Shapes</td>\n",
       "    </tr>\n",
       "    <tr>\n",
       "      <th>92bfe928-a21f-4864-b7cb-f0d300113d88</th>\n",
       "      <td>annotation</td>\n",
       "      <td>MULTIPOLYGON (((4575.97500 4152.46250, 4575.97...</td>\n",
       "      <td>Other</td>\n",
       "      <td>[255, 200, 0]</td>\n",
       "      <td>file</td>\n",
       "      <td>Shapes</td>\n",
       "    </tr>\n",
       "    <tr>\n",
       "      <th>a6c17a54-6839-40b2-8531-c9227635f344</th>\n",
       "      <td>annotation</td>\n",
       "      <td>POLYGON ((1381.46250 3639.27500, 1380.18750 36...</td>\n",
       "      <td>Other</td>\n",
       "      <td>[255, 200, 0]</td>\n",
       "      <td>file</td>\n",
       "      <td>Shapes</td>\n",
       "    </tr>\n",
       "    <tr>\n",
       "      <th>e78efe2f-d185-4ab6-9cc9-6621897f3662</th>\n",
       "      <td>annotation</td>\n",
       "      <td>POLYGON ((6272.92137 3936.13750, 6263.65000 39...</td>\n",
       "      <td>Negative</td>\n",
       "      <td>[112, 112, 225]</td>\n",
       "      <td>file</td>\n",
       "      <td>Shapes</td>\n",
       "    </tr>\n",
       "  </tbody>\n",
       "</table>\n",
       "</div>"
      ],
      "text/plain": [
       "                                      objectType  \\\n",
       "id                                                 \n",
       "1970eccb-ad38-4b4b-b7a8-54509027b57d  annotation   \n",
       "a3b32cce-1bb9-4a6f-b1d1-9e0c44420cfa  annotation   \n",
       "92bfe928-a21f-4864-b7cb-f0d300113d88  annotation   \n",
       "a6c17a54-6839-40b2-8531-c9227635f344  annotation   \n",
       "e78efe2f-d185-4ab6-9cc9-6621897f3662  annotation   \n",
       "\n",
       "                                                                               geometry  \\\n",
       "id                                                                                        \n",
       "1970eccb-ad38-4b4b-b7a8-54509027b57d  POLYGON ((5380.28750 827.05000, 5379.01250 827...   \n",
       "a3b32cce-1bb9-4a6f-b1d1-9e0c44420cfa  POLYGON ((6576.87500 2306.68750, 6575.60000 23...   \n",
       "92bfe928-a21f-4864-b7cb-f0d300113d88  MULTIPOLYGON (((4575.97500 4152.46250, 4575.97...   \n",
       "a6c17a54-6839-40b2-8531-c9227635f344  POLYGON ((1381.46250 3639.27500, 1380.18750 36...   \n",
       "e78efe2f-d185-4ab6-9cc9-6621897f3662  POLYGON ((6272.92137 3936.13750, 6263.65000 39...   \n",
       "\n",
       "                                          name            color origin  \\\n",
       "id                                                                       \n",
       "1970eccb-ad38-4b4b-b7a8-54509027b57d  Negative  [112, 112, 225]   file   \n",
       "a3b32cce-1bb9-4a6f-b1d1-9e0c44420cfa  Positive    [250, 62, 62]   file   \n",
       "92bfe928-a21f-4864-b7cb-f0d300113d88     Other    [255, 200, 0]   file   \n",
       "a6c17a54-6839-40b2-8531-c9227635f344     Other    [255, 200, 0]   file   \n",
       "e78efe2f-d185-4ab6-9cc9-6621897f3662  Negative  [112, 112, 225]   file   \n",
       "\n",
       "                                     layer_type  \n",
       "id                                               \n",
       "1970eccb-ad38-4b4b-b7a8-54509027b57d     Shapes  \n",
       "a3b32cce-1bb9-4a6f-b1d1-9e0c44420cfa     Shapes  \n",
       "92bfe928-a21f-4864-b7cb-f0d300113d88     Shapes  \n",
       "a6c17a54-6839-40b2-8531-c9227635f344     Shapes  \n",
       "e78efe2f-d185-4ab6-9cc9-6621897f3662     Shapes  "
      ]
     },
     "execution_count": 27,
     "metadata": {},
     "output_type": "execute_result"
    }
   ],
   "source": [
    "# show geopandas dataframe for one annotation\n",
    "xd.annotations[\"demo2\"]"
   ]
  },
  {
   "cell_type": "markdown",
   "id": "2f209ebb",
   "metadata": {},
   "source": [
    "## Save imported annotations in `InSituPy` project"
   ]
  },
  {
   "cell_type": "code",
   "execution_count": 28,
   "id": "bd9034f1",
   "metadata": {},
   "outputs": [
    {
     "name": "stdout",
     "output_type": "stream",
     "text": [
      "Updating project in C:\\Users\\ge37voy\\.cache\\InSituPy\\out\\demo_insitupy_project\n",
      "\tUpdating cells...\n",
      "\tUpdating annotations...\n",
      "\tUpdating regions...\n",
      "Saved.\n"
     ]
    }
   ],
   "source": [
    "xd.save()"
   ]
  },
  {
   "cell_type": "code",
   "execution_count": null,
   "id": "1c6ac551",
   "metadata": {},
   "outputs": [],
   "source": []
  }
 ],
 "metadata": {
  "kernelspec": {
   "display_name": "insitupy",
   "language": "python",
   "name": "python3"
  },
  "language_info": {
   "codemirror_mode": {
    "name": "ipython",
    "version": 3
   },
   "file_extension": ".py",
   "mimetype": "text/x-python",
   "name": "python",
   "nbconvert_exporter": "python",
   "pygments_lexer": "ipython3",
   "version": "3.9.21"
  }
 },
 "nbformat": 4,
 "nbformat_minor": 5
}
